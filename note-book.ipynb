{
 "cells": [
  {
   "cell_type": "markdown",
   "id": "564cf8e0",
   "metadata": {
    "papermill": {
     "duration": 0.015922,
     "end_time": "2024-01-03T12:01:26.094126",
     "exception": false,
     "start_time": "2024-01-03T12:01:26.078204",
     "status": "completed"
    },
    "tags": []
   },
   "source": [
    "**Importing necessary libraries**"
   ]
  },
  {
   "cell_type": "code",
   "execution_count": 1,
   "id": "beebb8b5",
   "metadata": {
    "_cell_guid": "b1076dfc-b9ad-4769-8c92-a6c4dae69d19",
    "_uuid": "8f2839f25d086af736a60e9eeb907d3b93b6e0e5",
    "execution": {
     "iopub.execute_input": "2024-01-03T12:01:26.126562Z",
     "iopub.status.busy": "2024-01-03T12:01:26.126165Z",
     "iopub.status.idle": "2024-01-03T12:01:28.051438Z",
     "shell.execute_reply": "2024-01-03T12:01:28.050216Z"
    },
    "papermill": {
     "duration": 1.944723,
     "end_time": "2024-01-03T12:01:28.054316",
     "exception": false,
     "start_time": "2024-01-03T12:01:26.109593",
     "status": "completed"
    },
    "tags": []
   },
   "outputs": [],
   "source": [
    "import pandas as pd\n",
    "from sklearn import datasets\n",
    "import seaborn as sns\n",
    "import matplotlib.pyplot as plt"
   ]
  },
  {
   "cell_type": "markdown",
   "id": "98703f4f",
   "metadata": {
    "papermill": {
     "duration": 0.015675,
     "end_time": "2024-01-03T12:01:28.085415",
     "exception": false,
     "start_time": "2024-01-03T12:01:28.069740",
     "status": "completed"
    },
    "tags": []
   },
   "source": [
    "**Let's explore the dataset**"
   ]
  },
  {
   "cell_type": "code",
   "execution_count": 2,
   "id": "7913c83d",
   "metadata": {
    "execution": {
     "iopub.execute_input": "2024-01-03T12:01:28.116820Z",
     "iopub.status.busy": "2024-01-03T12:01:28.116266Z",
     "iopub.status.idle": "2024-01-03T12:01:28.137607Z",
     "shell.execute_reply": "2024-01-03T12:01:28.136717Z"
    },
    "papermill": {
     "duration": 0.03948,
     "end_time": "2024-01-03T12:01:28.139912",
     "exception": false,
     "start_time": "2024-01-03T12:01:28.100432",
     "status": "completed"
    },
    "tags": []
   },
   "outputs": [],
   "source": [
    "data = datasets.load_breast_cancer()\n",
    "X = pd.DataFrame(data.data, columns=data.feature_names)\n",
    "Y = pd.DataFrame(data.target,columns=[\"target\"])"
   ]
  },
  {
   "cell_type": "markdown",
   "id": "d0f08f10",
   "metadata": {
    "papermill": {
     "duration": 0.015218,
     "end_time": "2024-01-03T12:01:28.170339",
     "exception": false,
     "start_time": "2024-01-03T12:01:28.155121",
     "status": "completed"
    },
    "tags": []
   },
   "source": [
    "**Let's take a look at head of X:**"
   ]
  },
  {
   "cell_type": "code",
   "execution_count": 3,
   "id": "906dcc2e",
   "metadata": {
    "execution": {
     "iopub.execute_input": "2024-01-03T12:01:28.201892Z",
     "iopub.status.busy": "2024-01-03T12:01:28.201527Z",
     "iopub.status.idle": "2024-01-03T12:01:28.241414Z",
     "shell.execute_reply": "2024-01-03T12:01:28.240327Z"
    },
    "papermill": {
     "duration": 0.058323,
     "end_time": "2024-01-03T12:01:28.243925",
     "exception": false,
     "start_time": "2024-01-03T12:01:28.185602",
     "status": "completed"
    },
    "tags": []
   },
   "outputs": [
    {
     "data": {
      "text/html": [
       "<div>\n",
       "<style scoped>\n",
       "    .dataframe tbody tr th:only-of-type {\n",
       "        vertical-align: middle;\n",
       "    }\n",
       "\n",
       "    .dataframe tbody tr th {\n",
       "        vertical-align: top;\n",
       "    }\n",
       "\n",
       "    .dataframe thead th {\n",
       "        text-align: right;\n",
       "    }\n",
       "</style>\n",
       "<table border=\"1\" class=\"dataframe\">\n",
       "  <thead>\n",
       "    <tr style=\"text-align: right;\">\n",
       "      <th></th>\n",
       "      <th>mean radius</th>\n",
       "      <th>mean texture</th>\n",
       "      <th>mean perimeter</th>\n",
       "      <th>mean area</th>\n",
       "      <th>mean smoothness</th>\n",
       "      <th>mean compactness</th>\n",
       "      <th>mean concavity</th>\n",
       "      <th>mean concave points</th>\n",
       "      <th>mean symmetry</th>\n",
       "      <th>mean fractal dimension</th>\n",
       "      <th>...</th>\n",
       "      <th>worst radius</th>\n",
       "      <th>worst texture</th>\n",
       "      <th>worst perimeter</th>\n",
       "      <th>worst area</th>\n",
       "      <th>worst smoothness</th>\n",
       "      <th>worst compactness</th>\n",
       "      <th>worst concavity</th>\n",
       "      <th>worst concave points</th>\n",
       "      <th>worst symmetry</th>\n",
       "      <th>worst fractal dimension</th>\n",
       "    </tr>\n",
       "  </thead>\n",
       "  <tbody>\n",
       "    <tr>\n",
       "      <th>0</th>\n",
       "      <td>17.99</td>\n",
       "      <td>10.38</td>\n",
       "      <td>122.80</td>\n",
       "      <td>1001.0</td>\n",
       "      <td>0.11840</td>\n",
       "      <td>0.27760</td>\n",
       "      <td>0.3001</td>\n",
       "      <td>0.14710</td>\n",
       "      <td>0.2419</td>\n",
       "      <td>0.07871</td>\n",
       "      <td>...</td>\n",
       "      <td>25.38</td>\n",
       "      <td>17.33</td>\n",
       "      <td>184.60</td>\n",
       "      <td>2019.0</td>\n",
       "      <td>0.1622</td>\n",
       "      <td>0.6656</td>\n",
       "      <td>0.7119</td>\n",
       "      <td>0.2654</td>\n",
       "      <td>0.4601</td>\n",
       "      <td>0.11890</td>\n",
       "    </tr>\n",
       "    <tr>\n",
       "      <th>1</th>\n",
       "      <td>20.57</td>\n",
       "      <td>17.77</td>\n",
       "      <td>132.90</td>\n",
       "      <td>1326.0</td>\n",
       "      <td>0.08474</td>\n",
       "      <td>0.07864</td>\n",
       "      <td>0.0869</td>\n",
       "      <td>0.07017</td>\n",
       "      <td>0.1812</td>\n",
       "      <td>0.05667</td>\n",
       "      <td>...</td>\n",
       "      <td>24.99</td>\n",
       "      <td>23.41</td>\n",
       "      <td>158.80</td>\n",
       "      <td>1956.0</td>\n",
       "      <td>0.1238</td>\n",
       "      <td>0.1866</td>\n",
       "      <td>0.2416</td>\n",
       "      <td>0.1860</td>\n",
       "      <td>0.2750</td>\n",
       "      <td>0.08902</td>\n",
       "    </tr>\n",
       "    <tr>\n",
       "      <th>2</th>\n",
       "      <td>19.69</td>\n",
       "      <td>21.25</td>\n",
       "      <td>130.00</td>\n",
       "      <td>1203.0</td>\n",
       "      <td>0.10960</td>\n",
       "      <td>0.15990</td>\n",
       "      <td>0.1974</td>\n",
       "      <td>0.12790</td>\n",
       "      <td>0.2069</td>\n",
       "      <td>0.05999</td>\n",
       "      <td>...</td>\n",
       "      <td>23.57</td>\n",
       "      <td>25.53</td>\n",
       "      <td>152.50</td>\n",
       "      <td>1709.0</td>\n",
       "      <td>0.1444</td>\n",
       "      <td>0.4245</td>\n",
       "      <td>0.4504</td>\n",
       "      <td>0.2430</td>\n",
       "      <td>0.3613</td>\n",
       "      <td>0.08758</td>\n",
       "    </tr>\n",
       "    <tr>\n",
       "      <th>3</th>\n",
       "      <td>11.42</td>\n",
       "      <td>20.38</td>\n",
       "      <td>77.58</td>\n",
       "      <td>386.1</td>\n",
       "      <td>0.14250</td>\n",
       "      <td>0.28390</td>\n",
       "      <td>0.2414</td>\n",
       "      <td>0.10520</td>\n",
       "      <td>0.2597</td>\n",
       "      <td>0.09744</td>\n",
       "      <td>...</td>\n",
       "      <td>14.91</td>\n",
       "      <td>26.50</td>\n",
       "      <td>98.87</td>\n",
       "      <td>567.7</td>\n",
       "      <td>0.2098</td>\n",
       "      <td>0.8663</td>\n",
       "      <td>0.6869</td>\n",
       "      <td>0.2575</td>\n",
       "      <td>0.6638</td>\n",
       "      <td>0.17300</td>\n",
       "    </tr>\n",
       "    <tr>\n",
       "      <th>4</th>\n",
       "      <td>20.29</td>\n",
       "      <td>14.34</td>\n",
       "      <td>135.10</td>\n",
       "      <td>1297.0</td>\n",
       "      <td>0.10030</td>\n",
       "      <td>0.13280</td>\n",
       "      <td>0.1980</td>\n",
       "      <td>0.10430</td>\n",
       "      <td>0.1809</td>\n",
       "      <td>0.05883</td>\n",
       "      <td>...</td>\n",
       "      <td>22.54</td>\n",
       "      <td>16.67</td>\n",
       "      <td>152.20</td>\n",
       "      <td>1575.0</td>\n",
       "      <td>0.1374</td>\n",
       "      <td>0.2050</td>\n",
       "      <td>0.4000</td>\n",
       "      <td>0.1625</td>\n",
       "      <td>0.2364</td>\n",
       "      <td>0.07678</td>\n",
       "    </tr>\n",
       "  </tbody>\n",
       "</table>\n",
       "<p>5 rows × 30 columns</p>\n",
       "</div>"
      ],
      "text/plain": [
       "   mean radius  mean texture  mean perimeter  mean area  mean smoothness  \\\n",
       "0        17.99         10.38          122.80     1001.0          0.11840   \n",
       "1        20.57         17.77          132.90     1326.0          0.08474   \n",
       "2        19.69         21.25          130.00     1203.0          0.10960   \n",
       "3        11.42         20.38           77.58      386.1          0.14250   \n",
       "4        20.29         14.34          135.10     1297.0          0.10030   \n",
       "\n",
       "   mean compactness  mean concavity  mean concave points  mean symmetry  \\\n",
       "0           0.27760          0.3001              0.14710         0.2419   \n",
       "1           0.07864          0.0869              0.07017         0.1812   \n",
       "2           0.15990          0.1974              0.12790         0.2069   \n",
       "3           0.28390          0.2414              0.10520         0.2597   \n",
       "4           0.13280          0.1980              0.10430         0.1809   \n",
       "\n",
       "   mean fractal dimension  ...  worst radius  worst texture  worst perimeter  \\\n",
       "0                 0.07871  ...         25.38          17.33           184.60   \n",
       "1                 0.05667  ...         24.99          23.41           158.80   \n",
       "2                 0.05999  ...         23.57          25.53           152.50   \n",
       "3                 0.09744  ...         14.91          26.50            98.87   \n",
       "4                 0.05883  ...         22.54          16.67           152.20   \n",
       "\n",
       "   worst area  worst smoothness  worst compactness  worst concavity  \\\n",
       "0      2019.0            0.1622             0.6656           0.7119   \n",
       "1      1956.0            0.1238             0.1866           0.2416   \n",
       "2      1709.0            0.1444             0.4245           0.4504   \n",
       "3       567.7            0.2098             0.8663           0.6869   \n",
       "4      1575.0            0.1374             0.2050           0.4000   \n",
       "\n",
       "   worst concave points  worst symmetry  worst fractal dimension  \n",
       "0                0.2654          0.4601                  0.11890  \n",
       "1                0.1860          0.2750                  0.08902  \n",
       "2                0.2430          0.3613                  0.08758  \n",
       "3                0.2575          0.6638                  0.17300  \n",
       "4                0.1625          0.2364                  0.07678  \n",
       "\n",
       "[5 rows x 30 columns]"
      ]
     },
     "execution_count": 3,
     "metadata": {},
     "output_type": "execute_result"
    }
   ],
   "source": [
    "X.head()"
   ]
  },
  {
   "cell_type": "code",
   "execution_count": 4,
   "id": "9bc6cc8a",
   "metadata": {
    "execution": {
     "iopub.execute_input": "2024-01-03T12:01:28.278479Z",
     "iopub.status.busy": "2024-01-03T12:01:28.277843Z",
     "iopub.status.idle": "2024-01-03T12:01:28.288452Z",
     "shell.execute_reply": "2024-01-03T12:01:28.287372Z"
    },
    "papermill": {
     "duration": 0.030691,
     "end_time": "2024-01-03T12:01:28.290675",
     "exception": false,
     "start_time": "2024-01-03T12:01:28.259984",
     "status": "completed"
    },
    "tags": []
   },
   "outputs": [
    {
     "data": {
      "text/plain": [
       "mean radius                0\n",
       "mean texture               0\n",
       "mean perimeter             0\n",
       "mean area                  0\n",
       "mean smoothness            0\n",
       "mean compactness           0\n",
       "mean concavity             0\n",
       "mean concave points        0\n",
       "mean symmetry              0\n",
       "mean fractal dimension     0\n",
       "radius error               0\n",
       "texture error              0\n",
       "perimeter error            0\n",
       "area error                 0\n",
       "smoothness error           0\n",
       "compactness error          0\n",
       "concavity error            0\n",
       "concave points error       0\n",
       "symmetry error             0\n",
       "fractal dimension error    0\n",
       "worst radius               0\n",
       "worst texture              0\n",
       "worst perimeter            0\n",
       "worst area                 0\n",
       "worst smoothness           0\n",
       "worst compactness          0\n",
       "worst concavity            0\n",
       "worst concave points       0\n",
       "worst symmetry             0\n",
       "worst fractal dimension    0\n",
       "dtype: int64"
      ]
     },
     "execution_count": 4,
     "metadata": {},
     "output_type": "execute_result"
    }
   ],
   "source": [
    "X.isnull().sum()"
   ]
  },
  {
   "cell_type": "code",
   "execution_count": 5,
   "id": "171958ea",
   "metadata": {
    "execution": {
     "iopub.execute_input": "2024-01-03T12:01:28.324725Z",
     "iopub.status.busy": "2024-01-03T12:01:28.324129Z",
     "iopub.status.idle": "2024-01-03T12:01:28.349128Z",
     "shell.execute_reply": "2024-01-03T12:01:28.347789Z"
    },
    "papermill": {
     "duration": 0.044485,
     "end_time": "2024-01-03T12:01:28.351483",
     "exception": false,
     "start_time": "2024-01-03T12:01:28.306998",
     "status": "completed"
    },
    "tags": []
   },
   "outputs": [
    {
     "name": "stdout",
     "output_type": "stream",
     "text": [
      "<class 'pandas.core.frame.DataFrame'>\n",
      "RangeIndex: 569 entries, 0 to 568\n",
      "Data columns (total 30 columns):\n",
      " #   Column                   Non-Null Count  Dtype  \n",
      "---  ------                   --------------  -----  \n",
      " 0   mean radius              569 non-null    float64\n",
      " 1   mean texture             569 non-null    float64\n",
      " 2   mean perimeter           569 non-null    float64\n",
      " 3   mean area                569 non-null    float64\n",
      " 4   mean smoothness          569 non-null    float64\n",
      " 5   mean compactness         569 non-null    float64\n",
      " 6   mean concavity           569 non-null    float64\n",
      " 7   mean concave points      569 non-null    float64\n",
      " 8   mean symmetry            569 non-null    float64\n",
      " 9   mean fractal dimension   569 non-null    float64\n",
      " 10  radius error             569 non-null    float64\n",
      " 11  texture error            569 non-null    float64\n",
      " 12  perimeter error          569 non-null    float64\n",
      " 13  area error               569 non-null    float64\n",
      " 14  smoothness error         569 non-null    float64\n",
      " 15  compactness error        569 non-null    float64\n",
      " 16  concavity error          569 non-null    float64\n",
      " 17  concave points error     569 non-null    float64\n",
      " 18  symmetry error           569 non-null    float64\n",
      " 19  fractal dimension error  569 non-null    float64\n",
      " 20  worst radius             569 non-null    float64\n",
      " 21  worst texture            569 non-null    float64\n",
      " 22  worst perimeter          569 non-null    float64\n",
      " 23  worst area               569 non-null    float64\n",
      " 24  worst smoothness         569 non-null    float64\n",
      " 25  worst compactness        569 non-null    float64\n",
      " 26  worst concavity          569 non-null    float64\n",
      " 27  worst concave points     569 non-null    float64\n",
      " 28  worst symmetry           569 non-null    float64\n",
      " 29  worst fractal dimension  569 non-null    float64\n",
      "dtypes: float64(30)\n",
      "memory usage: 133.5 KB\n"
     ]
    }
   ],
   "source": [
    "X.info()"
   ]
  },
  {
   "cell_type": "code",
   "execution_count": 6,
   "id": "e00e383b",
   "metadata": {
    "execution": {
     "iopub.execute_input": "2024-01-03T12:01:28.385020Z",
     "iopub.status.busy": "2024-01-03T12:01:28.383943Z",
     "iopub.status.idle": "2024-01-03T12:01:28.472948Z",
     "shell.execute_reply": "2024-01-03T12:01:28.471948Z"
    },
    "papermill": {
     "duration": 0.108222,
     "end_time": "2024-01-03T12:01:28.475260",
     "exception": false,
     "start_time": "2024-01-03T12:01:28.367038",
     "status": "completed"
    },
    "tags": []
   },
   "outputs": [
    {
     "data": {
      "text/html": [
       "<div>\n",
       "<style scoped>\n",
       "    .dataframe tbody tr th:only-of-type {\n",
       "        vertical-align: middle;\n",
       "    }\n",
       "\n",
       "    .dataframe tbody tr th {\n",
       "        vertical-align: top;\n",
       "    }\n",
       "\n",
       "    .dataframe thead th {\n",
       "        text-align: right;\n",
       "    }\n",
       "</style>\n",
       "<table border=\"1\" class=\"dataframe\">\n",
       "  <thead>\n",
       "    <tr style=\"text-align: right;\">\n",
       "      <th></th>\n",
       "      <th>mean radius</th>\n",
       "      <th>mean texture</th>\n",
       "      <th>mean perimeter</th>\n",
       "      <th>mean area</th>\n",
       "      <th>mean smoothness</th>\n",
       "      <th>mean compactness</th>\n",
       "      <th>mean concavity</th>\n",
       "      <th>mean concave points</th>\n",
       "      <th>mean symmetry</th>\n",
       "      <th>mean fractal dimension</th>\n",
       "      <th>...</th>\n",
       "      <th>worst radius</th>\n",
       "      <th>worst texture</th>\n",
       "      <th>worst perimeter</th>\n",
       "      <th>worst area</th>\n",
       "      <th>worst smoothness</th>\n",
       "      <th>worst compactness</th>\n",
       "      <th>worst concavity</th>\n",
       "      <th>worst concave points</th>\n",
       "      <th>worst symmetry</th>\n",
       "      <th>worst fractal dimension</th>\n",
       "    </tr>\n",
       "  </thead>\n",
       "  <tbody>\n",
       "    <tr>\n",
       "      <th>count</th>\n",
       "      <td>569.000000</td>\n",
       "      <td>569.000000</td>\n",
       "      <td>569.000000</td>\n",
       "      <td>569.000000</td>\n",
       "      <td>569.000000</td>\n",
       "      <td>569.000000</td>\n",
       "      <td>569.000000</td>\n",
       "      <td>569.000000</td>\n",
       "      <td>569.000000</td>\n",
       "      <td>569.000000</td>\n",
       "      <td>...</td>\n",
       "      <td>569.000000</td>\n",
       "      <td>569.000000</td>\n",
       "      <td>569.000000</td>\n",
       "      <td>569.000000</td>\n",
       "      <td>569.000000</td>\n",
       "      <td>569.000000</td>\n",
       "      <td>569.000000</td>\n",
       "      <td>569.000000</td>\n",
       "      <td>569.000000</td>\n",
       "      <td>569.000000</td>\n",
       "    </tr>\n",
       "    <tr>\n",
       "      <th>mean</th>\n",
       "      <td>14.127292</td>\n",
       "      <td>19.289649</td>\n",
       "      <td>91.969033</td>\n",
       "      <td>654.889104</td>\n",
       "      <td>0.096360</td>\n",
       "      <td>0.104341</td>\n",
       "      <td>0.088799</td>\n",
       "      <td>0.048919</td>\n",
       "      <td>0.181162</td>\n",
       "      <td>0.062798</td>\n",
       "      <td>...</td>\n",
       "      <td>16.269190</td>\n",
       "      <td>25.677223</td>\n",
       "      <td>107.261213</td>\n",
       "      <td>880.583128</td>\n",
       "      <td>0.132369</td>\n",
       "      <td>0.254265</td>\n",
       "      <td>0.272188</td>\n",
       "      <td>0.114606</td>\n",
       "      <td>0.290076</td>\n",
       "      <td>0.083946</td>\n",
       "    </tr>\n",
       "    <tr>\n",
       "      <th>std</th>\n",
       "      <td>3.524049</td>\n",
       "      <td>4.301036</td>\n",
       "      <td>24.298981</td>\n",
       "      <td>351.914129</td>\n",
       "      <td>0.014064</td>\n",
       "      <td>0.052813</td>\n",
       "      <td>0.079720</td>\n",
       "      <td>0.038803</td>\n",
       "      <td>0.027414</td>\n",
       "      <td>0.007060</td>\n",
       "      <td>...</td>\n",
       "      <td>4.833242</td>\n",
       "      <td>6.146258</td>\n",
       "      <td>33.602542</td>\n",
       "      <td>569.356993</td>\n",
       "      <td>0.022832</td>\n",
       "      <td>0.157336</td>\n",
       "      <td>0.208624</td>\n",
       "      <td>0.065732</td>\n",
       "      <td>0.061867</td>\n",
       "      <td>0.018061</td>\n",
       "    </tr>\n",
       "    <tr>\n",
       "      <th>min</th>\n",
       "      <td>6.981000</td>\n",
       "      <td>9.710000</td>\n",
       "      <td>43.790000</td>\n",
       "      <td>143.500000</td>\n",
       "      <td>0.052630</td>\n",
       "      <td>0.019380</td>\n",
       "      <td>0.000000</td>\n",
       "      <td>0.000000</td>\n",
       "      <td>0.106000</td>\n",
       "      <td>0.049960</td>\n",
       "      <td>...</td>\n",
       "      <td>7.930000</td>\n",
       "      <td>12.020000</td>\n",
       "      <td>50.410000</td>\n",
       "      <td>185.200000</td>\n",
       "      <td>0.071170</td>\n",
       "      <td>0.027290</td>\n",
       "      <td>0.000000</td>\n",
       "      <td>0.000000</td>\n",
       "      <td>0.156500</td>\n",
       "      <td>0.055040</td>\n",
       "    </tr>\n",
       "    <tr>\n",
       "      <th>25%</th>\n",
       "      <td>11.700000</td>\n",
       "      <td>16.170000</td>\n",
       "      <td>75.170000</td>\n",
       "      <td>420.300000</td>\n",
       "      <td>0.086370</td>\n",
       "      <td>0.064920</td>\n",
       "      <td>0.029560</td>\n",
       "      <td>0.020310</td>\n",
       "      <td>0.161900</td>\n",
       "      <td>0.057700</td>\n",
       "      <td>...</td>\n",
       "      <td>13.010000</td>\n",
       "      <td>21.080000</td>\n",
       "      <td>84.110000</td>\n",
       "      <td>515.300000</td>\n",
       "      <td>0.116600</td>\n",
       "      <td>0.147200</td>\n",
       "      <td>0.114500</td>\n",
       "      <td>0.064930</td>\n",
       "      <td>0.250400</td>\n",
       "      <td>0.071460</td>\n",
       "    </tr>\n",
       "    <tr>\n",
       "      <th>50%</th>\n",
       "      <td>13.370000</td>\n",
       "      <td>18.840000</td>\n",
       "      <td>86.240000</td>\n",
       "      <td>551.100000</td>\n",
       "      <td>0.095870</td>\n",
       "      <td>0.092630</td>\n",
       "      <td>0.061540</td>\n",
       "      <td>0.033500</td>\n",
       "      <td>0.179200</td>\n",
       "      <td>0.061540</td>\n",
       "      <td>...</td>\n",
       "      <td>14.970000</td>\n",
       "      <td>25.410000</td>\n",
       "      <td>97.660000</td>\n",
       "      <td>686.500000</td>\n",
       "      <td>0.131300</td>\n",
       "      <td>0.211900</td>\n",
       "      <td>0.226700</td>\n",
       "      <td>0.099930</td>\n",
       "      <td>0.282200</td>\n",
       "      <td>0.080040</td>\n",
       "    </tr>\n",
       "    <tr>\n",
       "      <th>75%</th>\n",
       "      <td>15.780000</td>\n",
       "      <td>21.800000</td>\n",
       "      <td>104.100000</td>\n",
       "      <td>782.700000</td>\n",
       "      <td>0.105300</td>\n",
       "      <td>0.130400</td>\n",
       "      <td>0.130700</td>\n",
       "      <td>0.074000</td>\n",
       "      <td>0.195700</td>\n",
       "      <td>0.066120</td>\n",
       "      <td>...</td>\n",
       "      <td>18.790000</td>\n",
       "      <td>29.720000</td>\n",
       "      <td>125.400000</td>\n",
       "      <td>1084.000000</td>\n",
       "      <td>0.146000</td>\n",
       "      <td>0.339100</td>\n",
       "      <td>0.382900</td>\n",
       "      <td>0.161400</td>\n",
       "      <td>0.317900</td>\n",
       "      <td>0.092080</td>\n",
       "    </tr>\n",
       "    <tr>\n",
       "      <th>max</th>\n",
       "      <td>28.110000</td>\n",
       "      <td>39.280000</td>\n",
       "      <td>188.500000</td>\n",
       "      <td>2501.000000</td>\n",
       "      <td>0.163400</td>\n",
       "      <td>0.345400</td>\n",
       "      <td>0.426800</td>\n",
       "      <td>0.201200</td>\n",
       "      <td>0.304000</td>\n",
       "      <td>0.097440</td>\n",
       "      <td>...</td>\n",
       "      <td>36.040000</td>\n",
       "      <td>49.540000</td>\n",
       "      <td>251.200000</td>\n",
       "      <td>4254.000000</td>\n",
       "      <td>0.222600</td>\n",
       "      <td>1.058000</td>\n",
       "      <td>1.252000</td>\n",
       "      <td>0.291000</td>\n",
       "      <td>0.663800</td>\n",
       "      <td>0.207500</td>\n",
       "    </tr>\n",
       "  </tbody>\n",
       "</table>\n",
       "<p>8 rows × 30 columns</p>\n",
       "</div>"
      ],
      "text/plain": [
       "       mean radius  mean texture  mean perimeter    mean area  \\\n",
       "count   569.000000    569.000000      569.000000   569.000000   \n",
       "mean     14.127292     19.289649       91.969033   654.889104   \n",
       "std       3.524049      4.301036       24.298981   351.914129   \n",
       "min       6.981000      9.710000       43.790000   143.500000   \n",
       "25%      11.700000     16.170000       75.170000   420.300000   \n",
       "50%      13.370000     18.840000       86.240000   551.100000   \n",
       "75%      15.780000     21.800000      104.100000   782.700000   \n",
       "max      28.110000     39.280000      188.500000  2501.000000   \n",
       "\n",
       "       mean smoothness  mean compactness  mean concavity  mean concave points  \\\n",
       "count       569.000000        569.000000      569.000000           569.000000   \n",
       "mean          0.096360          0.104341        0.088799             0.048919   \n",
       "std           0.014064          0.052813        0.079720             0.038803   \n",
       "min           0.052630          0.019380        0.000000             0.000000   \n",
       "25%           0.086370          0.064920        0.029560             0.020310   \n",
       "50%           0.095870          0.092630        0.061540             0.033500   \n",
       "75%           0.105300          0.130400        0.130700             0.074000   \n",
       "max           0.163400          0.345400        0.426800             0.201200   \n",
       "\n",
       "       mean symmetry  mean fractal dimension  ...  worst radius  \\\n",
       "count     569.000000              569.000000  ...    569.000000   \n",
       "mean        0.181162                0.062798  ...     16.269190   \n",
       "std         0.027414                0.007060  ...      4.833242   \n",
       "min         0.106000                0.049960  ...      7.930000   \n",
       "25%         0.161900                0.057700  ...     13.010000   \n",
       "50%         0.179200                0.061540  ...     14.970000   \n",
       "75%         0.195700                0.066120  ...     18.790000   \n",
       "max         0.304000                0.097440  ...     36.040000   \n",
       "\n",
       "       worst texture  worst perimeter   worst area  worst smoothness  \\\n",
       "count     569.000000       569.000000   569.000000        569.000000   \n",
       "mean       25.677223       107.261213   880.583128          0.132369   \n",
       "std         6.146258        33.602542   569.356993          0.022832   \n",
       "min        12.020000        50.410000   185.200000          0.071170   \n",
       "25%        21.080000        84.110000   515.300000          0.116600   \n",
       "50%        25.410000        97.660000   686.500000          0.131300   \n",
       "75%        29.720000       125.400000  1084.000000          0.146000   \n",
       "max        49.540000       251.200000  4254.000000          0.222600   \n",
       "\n",
       "       worst compactness  worst concavity  worst concave points  \\\n",
       "count         569.000000       569.000000            569.000000   \n",
       "mean            0.254265         0.272188              0.114606   \n",
       "std             0.157336         0.208624              0.065732   \n",
       "min             0.027290         0.000000              0.000000   \n",
       "25%             0.147200         0.114500              0.064930   \n",
       "50%             0.211900         0.226700              0.099930   \n",
       "75%             0.339100         0.382900              0.161400   \n",
       "max             1.058000         1.252000              0.291000   \n",
       "\n",
       "       worst symmetry  worst fractal dimension  \n",
       "count      569.000000               569.000000  \n",
       "mean         0.290076                 0.083946  \n",
       "std          0.061867                 0.018061  \n",
       "min          0.156500                 0.055040  \n",
       "25%          0.250400                 0.071460  \n",
       "50%          0.282200                 0.080040  \n",
       "75%          0.317900                 0.092080  \n",
       "max          0.663800                 0.207500  \n",
       "\n",
       "[8 rows x 30 columns]"
      ]
     },
     "execution_count": 6,
     "metadata": {},
     "output_type": "execute_result"
    }
   ],
   "source": [
    "X.describe()"
   ]
  },
  {
   "cell_type": "markdown",
   "id": "92ebe579",
   "metadata": {
    "papermill": {
     "duration": 0.016197,
     "end_time": "2024-01-03T12:01:28.508928",
     "exception": false,
     "start_time": "2024-01-03T12:01:28.492731",
     "status": "completed"
    },
    "tags": []
   },
   "source": [
    "**Y data which is the target**"
   ]
  },
  {
   "cell_type": "code",
   "execution_count": 7,
   "id": "1609c8bc",
   "metadata": {
    "execution": {
     "iopub.execute_input": "2024-01-03T12:01:28.543424Z",
     "iopub.status.busy": "2024-01-03T12:01:28.542764Z",
     "iopub.status.idle": "2024-01-03T12:01:28.550355Z",
     "shell.execute_reply": "2024-01-03T12:01:28.549678Z"
    },
    "papermill": {
     "duration": 0.027231,
     "end_time": "2024-01-03T12:01:28.552311",
     "exception": false,
     "start_time": "2024-01-03T12:01:28.525080",
     "status": "completed"
    },
    "tags": []
   },
   "outputs": [
    {
     "data": {
      "text/html": [
       "<div>\n",
       "<style scoped>\n",
       "    .dataframe tbody tr th:only-of-type {\n",
       "        vertical-align: middle;\n",
       "    }\n",
       "\n",
       "    .dataframe tbody tr th {\n",
       "        vertical-align: top;\n",
       "    }\n",
       "\n",
       "    .dataframe thead th {\n",
       "        text-align: right;\n",
       "    }\n",
       "</style>\n",
       "<table border=\"1\" class=\"dataframe\">\n",
       "  <thead>\n",
       "    <tr style=\"text-align: right;\">\n",
       "      <th></th>\n",
       "      <th>target</th>\n",
       "    </tr>\n",
       "  </thead>\n",
       "  <tbody>\n",
       "    <tr>\n",
       "      <th>0</th>\n",
       "      <td>0</td>\n",
       "    </tr>\n",
       "    <tr>\n",
       "      <th>1</th>\n",
       "      <td>0</td>\n",
       "    </tr>\n",
       "    <tr>\n",
       "      <th>2</th>\n",
       "      <td>0</td>\n",
       "    </tr>\n",
       "    <tr>\n",
       "      <th>3</th>\n",
       "      <td>0</td>\n",
       "    </tr>\n",
       "    <tr>\n",
       "      <th>4</th>\n",
       "      <td>0</td>\n",
       "    </tr>\n",
       "  </tbody>\n",
       "</table>\n",
       "</div>"
      ],
      "text/plain": [
       "   target\n",
       "0       0\n",
       "1       0\n",
       "2       0\n",
       "3       0\n",
       "4       0"
      ]
     },
     "execution_count": 7,
     "metadata": {},
     "output_type": "execute_result"
    }
   ],
   "source": [
    "Y.head()"
   ]
  },
  {
   "cell_type": "code",
   "execution_count": 8,
   "id": "1bb7ca09",
   "metadata": {
    "execution": {
     "iopub.execute_input": "2024-01-03T12:01:28.638607Z",
     "iopub.status.busy": "2024-01-03T12:01:28.637986Z",
     "iopub.status.idle": "2024-01-03T12:01:28.645021Z",
     "shell.execute_reply": "2024-01-03T12:01:28.644085Z"
    },
    "papermill": {
     "duration": 0.026704,
     "end_time": "2024-01-03T12:01:28.646985",
     "exception": false,
     "start_time": "2024-01-03T12:01:28.620281",
     "status": "completed"
    },
    "tags": []
   },
   "outputs": [
    {
     "data": {
      "text/plain": [
       "target    0\n",
       "dtype: int64"
      ]
     },
     "execution_count": 8,
     "metadata": {},
     "output_type": "execute_result"
    }
   ],
   "source": [
    "Y.isnull().sum()"
   ]
  },
  {
   "cell_type": "markdown",
   "id": "b237e3d0",
   "metadata": {
    "papermill": {
     "duration": 0.016925,
     "end_time": "2024-01-03T12:01:28.680209",
     "exception": false,
     "start_time": "2024-01-03T12:01:28.663284",
     "status": "completed"
    },
    "tags": []
   },
   "source": [
    "**Counting values in Y**"
   ]
  },
  {
   "cell_type": "code",
   "execution_count": 9,
   "id": "f66d08ab",
   "metadata": {
    "execution": {
     "iopub.execute_input": "2024-01-03T12:01:28.714935Z",
     "iopub.status.busy": "2024-01-03T12:01:28.714544Z",
     "iopub.status.idle": "2024-01-03T12:01:28.725558Z",
     "shell.execute_reply": "2024-01-03T12:01:28.724391Z"
    },
    "papermill": {
     "duration": 0.030966,
     "end_time": "2024-01-03T12:01:28.727813",
     "exception": false,
     "start_time": "2024-01-03T12:01:28.696847",
     "status": "completed"
    },
    "tags": []
   },
   "outputs": [
    {
     "data": {
      "text/html": [
       "<div>\n",
       "<style scoped>\n",
       "    .dataframe tbody tr th:only-of-type {\n",
       "        vertical-align: middle;\n",
       "    }\n",
       "\n",
       "    .dataframe tbody tr th {\n",
       "        vertical-align: top;\n",
       "    }\n",
       "\n",
       "    .dataframe thead th {\n",
       "        text-align: right;\n",
       "    }\n",
       "</style>\n",
       "<table border=\"1\" class=\"dataframe\">\n",
       "  <thead>\n",
       "    <tr style=\"text-align: right;\">\n",
       "      <th></th>\n",
       "      <th>target</th>\n",
       "      <th>count</th>\n",
       "    </tr>\n",
       "  </thead>\n",
       "  <tbody>\n",
       "    <tr>\n",
       "      <th>0</th>\n",
       "      <td>1</td>\n",
       "      <td>357</td>\n",
       "    </tr>\n",
       "    <tr>\n",
       "      <th>1</th>\n",
       "      <td>0</td>\n",
       "      <td>212</td>\n",
       "    </tr>\n",
       "  </tbody>\n",
       "</table>\n",
       "</div>"
      ],
      "text/plain": [
       "   target  count\n",
       "0       1    357\n",
       "1       0    212"
      ]
     },
     "execution_count": 9,
     "metadata": {},
     "output_type": "execute_result"
    }
   ],
   "source": [
    "pd.DataFrame(Y[\"target\"].value_counts().reset_index())"
   ]
  },
  {
   "cell_type": "markdown",
   "id": "10933e05",
   "metadata": {
    "papermill": {
     "duration": 0.016508,
     "end_time": "2024-01-03T12:01:28.760924",
     "exception": false,
     "start_time": "2024-01-03T12:01:28.744416",
     "status": "completed"
    },
    "tags": []
   },
   "source": [
    "**Now we split the X and Y into test and train in order to give them later to the algorithms**"
   ]
  },
  {
   "cell_type": "code",
   "execution_count": 10,
   "id": "de12d08c",
   "metadata": {
    "execution": {
     "iopub.execute_input": "2024-01-03T12:01:28.796404Z",
     "iopub.status.busy": "2024-01-03T12:01:28.796026Z",
     "iopub.status.idle": "2024-01-03T12:01:28.889404Z",
     "shell.execute_reply": "2024-01-03T12:01:28.888541Z"
    },
    "papermill": {
     "duration": 0.11464,
     "end_time": "2024-01-03T12:01:28.892057",
     "exception": false,
     "start_time": "2024-01-03T12:01:28.777417",
     "status": "completed"
    },
    "tags": []
   },
   "outputs": [],
   "source": [
    "from sklearn.model_selection import train_test_split\n",
    "X_train, X_test, y_train, y_test = train_test_split(X, Y, test_size=0.5, random_state=0)"
   ]
  },
  {
   "cell_type": "markdown",
   "id": "f87220d4",
   "metadata": {
    "papermill": {
     "duration": 0.017054,
     "end_time": "2024-01-03T12:01:28.926260",
     "exception": false,
     "start_time": "2024-01-03T12:01:28.909206",
     "status": "completed"
    },
    "tags": []
   },
   "source": [
    "**Now let's take a look at one them (take X_train as an example):**"
   ]
  },
  {
   "cell_type": "code",
   "execution_count": 11,
   "id": "90854940",
   "metadata": {
    "execution": {
     "iopub.execute_input": "2024-01-03T12:01:28.962557Z",
     "iopub.status.busy": "2024-01-03T12:01:28.962143Z",
     "iopub.status.idle": "2024-01-03T12:01:28.990689Z",
     "shell.execute_reply": "2024-01-03T12:01:28.989912Z"
    },
    "papermill": {
     "duration": 0.049302,
     "end_time": "2024-01-03T12:01:28.992725",
     "exception": false,
     "start_time": "2024-01-03T12:01:28.943423",
     "status": "completed"
    },
    "tags": []
   },
   "outputs": [
    {
     "data": {
      "text/html": [
       "<div>\n",
       "<style scoped>\n",
       "    .dataframe tbody tr th:only-of-type {\n",
       "        vertical-align: middle;\n",
       "    }\n",
       "\n",
       "    .dataframe tbody tr th {\n",
       "        vertical-align: top;\n",
       "    }\n",
       "\n",
       "    .dataframe thead th {\n",
       "        text-align: right;\n",
       "    }\n",
       "</style>\n",
       "<table border=\"1\" class=\"dataframe\">\n",
       "  <thead>\n",
       "    <tr style=\"text-align: right;\">\n",
       "      <th></th>\n",
       "      <th>mean radius</th>\n",
       "      <th>mean texture</th>\n",
       "      <th>mean perimeter</th>\n",
       "      <th>mean area</th>\n",
       "      <th>mean smoothness</th>\n",
       "      <th>mean compactness</th>\n",
       "      <th>mean concavity</th>\n",
       "      <th>mean concave points</th>\n",
       "      <th>mean symmetry</th>\n",
       "      <th>mean fractal dimension</th>\n",
       "      <th>...</th>\n",
       "      <th>worst radius</th>\n",
       "      <th>worst texture</th>\n",
       "      <th>worst perimeter</th>\n",
       "      <th>worst area</th>\n",
       "      <th>worst smoothness</th>\n",
       "      <th>worst compactness</th>\n",
       "      <th>worst concavity</th>\n",
       "      <th>worst concave points</th>\n",
       "      <th>worst symmetry</th>\n",
       "      <th>worst fractal dimension</th>\n",
       "    </tr>\n",
       "  </thead>\n",
       "  <tbody>\n",
       "    <tr>\n",
       "      <th>395</th>\n",
       "      <td>14.06</td>\n",
       "      <td>17.18</td>\n",
       "      <td>89.75</td>\n",
       "      <td>609.1</td>\n",
       "      <td>0.08045</td>\n",
       "      <td>0.05361</td>\n",
       "      <td>0.02681</td>\n",
       "      <td>0.03251</td>\n",
       "      <td>0.1641</td>\n",
       "      <td>0.05764</td>\n",
       "      <td>...</td>\n",
       "      <td>14.92</td>\n",
       "      <td>25.34</td>\n",
       "      <td>96.42</td>\n",
       "      <td>684.5</td>\n",
       "      <td>0.1066</td>\n",
       "      <td>0.1231</td>\n",
       "      <td>0.0846</td>\n",
       "      <td>0.07911</td>\n",
       "      <td>0.2523</td>\n",
       "      <td>0.06609</td>\n",
       "    </tr>\n",
       "    <tr>\n",
       "      <th>393</th>\n",
       "      <td>21.61</td>\n",
       "      <td>22.28</td>\n",
       "      <td>144.40</td>\n",
       "      <td>1407.0</td>\n",
       "      <td>0.11670</td>\n",
       "      <td>0.20870</td>\n",
       "      <td>0.28100</td>\n",
       "      <td>0.15620</td>\n",
       "      <td>0.2162</td>\n",
       "      <td>0.06606</td>\n",
       "      <td>...</td>\n",
       "      <td>26.23</td>\n",
       "      <td>28.74</td>\n",
       "      <td>172.00</td>\n",
       "      <td>2081.0</td>\n",
       "      <td>0.1502</td>\n",
       "      <td>0.5717</td>\n",
       "      <td>0.7053</td>\n",
       "      <td>0.24220</td>\n",
       "      <td>0.3828</td>\n",
       "      <td>0.10070</td>\n",
       "    </tr>\n",
       "    <tr>\n",
       "      <th>381</th>\n",
       "      <td>11.04</td>\n",
       "      <td>14.93</td>\n",
       "      <td>70.67</td>\n",
       "      <td>372.7</td>\n",
       "      <td>0.07987</td>\n",
       "      <td>0.07079</td>\n",
       "      <td>0.03546</td>\n",
       "      <td>0.02074</td>\n",
       "      <td>0.2003</td>\n",
       "      <td>0.06246</td>\n",
       "      <td>...</td>\n",
       "      <td>12.09</td>\n",
       "      <td>20.83</td>\n",
       "      <td>79.73</td>\n",
       "      <td>447.1</td>\n",
       "      <td>0.1095</td>\n",
       "      <td>0.1982</td>\n",
       "      <td>0.1553</td>\n",
       "      <td>0.06754</td>\n",
       "      <td>0.3202</td>\n",
       "      <td>0.07287</td>\n",
       "    </tr>\n",
       "    <tr>\n",
       "      <th>198</th>\n",
       "      <td>19.18</td>\n",
       "      <td>22.49</td>\n",
       "      <td>127.50</td>\n",
       "      <td>1148.0</td>\n",
       "      <td>0.08523</td>\n",
       "      <td>0.14280</td>\n",
       "      <td>0.11140</td>\n",
       "      <td>0.06772</td>\n",
       "      <td>0.1767</td>\n",
       "      <td>0.05529</td>\n",
       "      <td>...</td>\n",
       "      <td>23.36</td>\n",
       "      <td>32.06</td>\n",
       "      <td>166.40</td>\n",
       "      <td>1688.0</td>\n",
       "      <td>0.1322</td>\n",
       "      <td>0.5601</td>\n",
       "      <td>0.3865</td>\n",
       "      <td>0.17080</td>\n",
       "      <td>0.3193</td>\n",
       "      <td>0.09221</td>\n",
       "    </tr>\n",
       "    <tr>\n",
       "      <th>145</th>\n",
       "      <td>11.90</td>\n",
       "      <td>14.65</td>\n",
       "      <td>78.11</td>\n",
       "      <td>432.8</td>\n",
       "      <td>0.11520</td>\n",
       "      <td>0.12960</td>\n",
       "      <td>0.03710</td>\n",
       "      <td>0.03003</td>\n",
       "      <td>0.1995</td>\n",
       "      <td>0.07839</td>\n",
       "      <td>...</td>\n",
       "      <td>13.15</td>\n",
       "      <td>16.51</td>\n",
       "      <td>86.26</td>\n",
       "      <td>509.6</td>\n",
       "      <td>0.1424</td>\n",
       "      <td>0.2517</td>\n",
       "      <td>0.0942</td>\n",
       "      <td>0.06042</td>\n",
       "      <td>0.2727</td>\n",
       "      <td>0.10360</td>\n",
       "    </tr>\n",
       "  </tbody>\n",
       "</table>\n",
       "<p>5 rows × 30 columns</p>\n",
       "</div>"
      ],
      "text/plain": [
       "     mean radius  mean texture  mean perimeter  mean area  mean smoothness  \\\n",
       "395        14.06         17.18           89.75      609.1          0.08045   \n",
       "393        21.61         22.28          144.40     1407.0          0.11670   \n",
       "381        11.04         14.93           70.67      372.7          0.07987   \n",
       "198        19.18         22.49          127.50     1148.0          0.08523   \n",
       "145        11.90         14.65           78.11      432.8          0.11520   \n",
       "\n",
       "     mean compactness  mean concavity  mean concave points  mean symmetry  \\\n",
       "395           0.05361         0.02681              0.03251         0.1641   \n",
       "393           0.20870         0.28100              0.15620         0.2162   \n",
       "381           0.07079         0.03546              0.02074         0.2003   \n",
       "198           0.14280         0.11140              0.06772         0.1767   \n",
       "145           0.12960         0.03710              0.03003         0.1995   \n",
       "\n",
       "     mean fractal dimension  ...  worst radius  worst texture  \\\n",
       "395                 0.05764  ...         14.92          25.34   \n",
       "393                 0.06606  ...         26.23          28.74   \n",
       "381                 0.06246  ...         12.09          20.83   \n",
       "198                 0.05529  ...         23.36          32.06   \n",
       "145                 0.07839  ...         13.15          16.51   \n",
       "\n",
       "     worst perimeter  worst area  worst smoothness  worst compactness  \\\n",
       "395            96.42       684.5            0.1066             0.1231   \n",
       "393           172.00      2081.0            0.1502             0.5717   \n",
       "381            79.73       447.1            0.1095             0.1982   \n",
       "198           166.40      1688.0            0.1322             0.5601   \n",
       "145            86.26       509.6            0.1424             0.2517   \n",
       "\n",
       "     worst concavity  worst concave points  worst symmetry  \\\n",
       "395           0.0846               0.07911          0.2523   \n",
       "393           0.7053               0.24220          0.3828   \n",
       "381           0.1553               0.06754          0.3202   \n",
       "198           0.3865               0.17080          0.3193   \n",
       "145           0.0942               0.06042          0.2727   \n",
       "\n",
       "     worst fractal dimension  \n",
       "395                  0.06609  \n",
       "393                  0.10070  \n",
       "381                  0.07287  \n",
       "198                  0.09221  \n",
       "145                  0.10360  \n",
       "\n",
       "[5 rows x 30 columns]"
      ]
     },
     "execution_count": 11,
     "metadata": {},
     "output_type": "execute_result"
    }
   ],
   "source": [
    "X_train.head()"
   ]
  },
  {
   "cell_type": "markdown",
   "id": "004cdbd8",
   "metadata": {
    "papermill": {
     "duration": 0.017286,
     "end_time": "2024-01-03T12:01:29.027649",
     "exception": false,
     "start_time": "2024-01-03T12:01:29.010363",
     "status": "completed"
    },
    "tags": []
   },
   "source": [
    "# Decision tree classifier\n",
    "**First of all we're going to implement the decision tree classifier:**\n",
    "*random state makes sure that we get the same result for each run*"
   ]
  },
  {
   "cell_type": "code",
   "execution_count": 12,
   "id": "84766bd9",
   "metadata": {
    "execution": {
     "iopub.execute_input": "2024-01-03T12:01:29.064086Z",
     "iopub.status.busy": "2024-01-03T12:01:29.063418Z",
     "iopub.status.idle": "2024-01-03T12:01:29.244290Z",
     "shell.execute_reply": "2024-01-03T12:01:29.243252Z"
    },
    "papermill": {
     "duration": 0.202075,
     "end_time": "2024-01-03T12:01:29.246737",
     "exception": false,
     "start_time": "2024-01-03T12:01:29.044662",
     "status": "completed"
    },
    "tags": []
   },
   "outputs": [
    {
     "data": {
      "text/html": [
       "<style>#sk-container-id-1 {color: black;background-color: white;}#sk-container-id-1 pre{padding: 0;}#sk-container-id-1 div.sk-toggleable {background-color: white;}#sk-container-id-1 label.sk-toggleable__label {cursor: pointer;display: block;width: 100%;margin-bottom: 0;padding: 0.3em;box-sizing: border-box;text-align: center;}#sk-container-id-1 label.sk-toggleable__label-arrow:before {content: \"▸\";float: left;margin-right: 0.25em;color: #696969;}#sk-container-id-1 label.sk-toggleable__label-arrow:hover:before {color: black;}#sk-container-id-1 div.sk-estimator:hover label.sk-toggleable__label-arrow:before {color: black;}#sk-container-id-1 div.sk-toggleable__content {max-height: 0;max-width: 0;overflow: hidden;text-align: left;background-color: #f0f8ff;}#sk-container-id-1 div.sk-toggleable__content pre {margin: 0.2em;color: black;border-radius: 0.25em;background-color: #f0f8ff;}#sk-container-id-1 input.sk-toggleable__control:checked~div.sk-toggleable__content {max-height: 200px;max-width: 100%;overflow: auto;}#sk-container-id-1 input.sk-toggleable__control:checked~label.sk-toggleable__label-arrow:before {content: \"▾\";}#sk-container-id-1 div.sk-estimator input.sk-toggleable__control:checked~label.sk-toggleable__label {background-color: #d4ebff;}#sk-container-id-1 div.sk-label input.sk-toggleable__control:checked~label.sk-toggleable__label {background-color: #d4ebff;}#sk-container-id-1 input.sk-hidden--visually {border: 0;clip: rect(1px 1px 1px 1px);clip: rect(1px, 1px, 1px, 1px);height: 1px;margin: -1px;overflow: hidden;padding: 0;position: absolute;width: 1px;}#sk-container-id-1 div.sk-estimator {font-family: monospace;background-color: #f0f8ff;border: 1px dotted black;border-radius: 0.25em;box-sizing: border-box;margin-bottom: 0.5em;}#sk-container-id-1 div.sk-estimator:hover {background-color: #d4ebff;}#sk-container-id-1 div.sk-parallel-item::after {content: \"\";width: 100%;border-bottom: 1px solid gray;flex-grow: 1;}#sk-container-id-1 div.sk-label:hover label.sk-toggleable__label {background-color: #d4ebff;}#sk-container-id-1 div.sk-serial::before {content: \"\";position: absolute;border-left: 1px solid gray;box-sizing: border-box;top: 0;bottom: 0;left: 50%;z-index: 0;}#sk-container-id-1 div.sk-serial {display: flex;flex-direction: column;align-items: center;background-color: white;padding-right: 0.2em;padding-left: 0.2em;position: relative;}#sk-container-id-1 div.sk-item {position: relative;z-index: 1;}#sk-container-id-1 div.sk-parallel {display: flex;align-items: stretch;justify-content: center;background-color: white;position: relative;}#sk-container-id-1 div.sk-item::before, #sk-container-id-1 div.sk-parallel-item::before {content: \"\";position: absolute;border-left: 1px solid gray;box-sizing: border-box;top: 0;bottom: 0;left: 50%;z-index: -1;}#sk-container-id-1 div.sk-parallel-item {display: flex;flex-direction: column;z-index: 1;position: relative;background-color: white;}#sk-container-id-1 div.sk-parallel-item:first-child::after {align-self: flex-end;width: 50%;}#sk-container-id-1 div.sk-parallel-item:last-child::after {align-self: flex-start;width: 50%;}#sk-container-id-1 div.sk-parallel-item:only-child::after {width: 0;}#sk-container-id-1 div.sk-dashed-wrapped {border: 1px dashed gray;margin: 0 0.4em 0.5em 0.4em;box-sizing: border-box;padding-bottom: 0.4em;background-color: white;}#sk-container-id-1 div.sk-label label {font-family: monospace;font-weight: bold;display: inline-block;line-height: 1.2em;}#sk-container-id-1 div.sk-label-container {text-align: center;}#sk-container-id-1 div.sk-container {/* jupyter's `normalize.less` sets `[hidden] { display: none; }` but bootstrap.min.css set `[hidden] { display: none !important; }` so we also need the `!important` here to be able to override the default hidden behavior on the sphinx rendered scikit-learn.org. See: https://github.com/scikit-learn/scikit-learn/issues/21755 */display: inline-block !important;position: relative;}#sk-container-id-1 div.sk-text-repr-fallback {display: none;}</style><div id=\"sk-container-id-1\" class=\"sk-top-container\"><div class=\"sk-text-repr-fallback\"><pre>DecisionTreeClassifier(max_depth=4, random_state=0)</pre><b>In a Jupyter environment, please rerun this cell to show the HTML representation or trust the notebook. <br />On GitHub, the HTML representation is unable to render, please try loading this page with nbviewer.org.</b></div><div class=\"sk-container\" hidden><div class=\"sk-item\"><div class=\"sk-estimator sk-toggleable\"><input class=\"sk-toggleable__control sk-hidden--visually\" id=\"sk-estimator-id-1\" type=\"checkbox\" checked><label for=\"sk-estimator-id-1\" class=\"sk-toggleable__label sk-toggleable__label-arrow\">DecisionTreeClassifier</label><div class=\"sk-toggleable__content\"><pre>DecisionTreeClassifier(max_depth=4, random_state=0)</pre></div></div></div></div></div>"
      ],
      "text/plain": [
       "DecisionTreeClassifier(max_depth=4, random_state=0)"
      ]
     },
     "execution_count": 12,
     "metadata": {},
     "output_type": "execute_result"
    }
   ],
   "source": [
    "from sklearn.tree import DecisionTreeClassifier\n",
    "d_clf = DecisionTreeClassifier(random_state=0, max_depth=4)\n",
    "d_clf.fit(X_train, y_train)"
   ]
  },
  {
   "cell_type": "code",
   "execution_count": 13,
   "id": "a926e53f",
   "metadata": {
    "execution": {
     "iopub.execute_input": "2024-01-03T12:01:29.285810Z",
     "iopub.status.busy": "2024-01-03T12:01:29.285080Z",
     "iopub.status.idle": "2024-01-03T12:01:29.294410Z",
     "shell.execute_reply": "2024-01-03T12:01:29.293105Z"
    },
    "papermill": {
     "duration": 0.031386,
     "end_time": "2024-01-03T12:01:29.296695",
     "exception": false,
     "start_time": "2024-01-03T12:01:29.265309",
     "status": "completed"
    },
    "tags": []
   },
   "outputs": [],
   "source": [
    "d_y_train_pred = d_clf.predict(X_train)\n",
    "d_y_test_pred = d_clf.predict(X_test)"
   ]
  },
  {
   "cell_type": "markdown",
   "id": "8d18b4f3",
   "metadata": {
    "papermill": {
     "duration": 0.018229,
     "end_time": "2024-01-03T12:01:29.333575",
     "exception": false,
     "start_time": "2024-01-03T12:01:29.315346",
     "status": "completed"
    },
    "tags": []
   },
   "source": [
    "**We use accuracy_score as the metric to evalute the result(we see a kind of overfitting here:**"
   ]
  },
  {
   "cell_type": "code",
   "execution_count": 14,
   "id": "6245cf29",
   "metadata": {
    "execution": {
     "iopub.execute_input": "2024-01-03T12:01:29.371067Z",
     "iopub.status.busy": "2024-01-03T12:01:29.370365Z",
     "iopub.status.idle": "2024-01-03T12:01:29.384189Z",
     "shell.execute_reply": "2024-01-03T12:01:29.383386Z"
    },
    "papermill": {
     "duration": 0.034846,
     "end_time": "2024-01-03T12:01:29.386469",
     "exception": false,
     "start_time": "2024-01-03T12:01:29.351623",
     "status": "completed"
    },
    "tags": []
   },
   "outputs": [],
   "source": [
    "from sklearn.metrics import accuracy_score\n",
    "d_train_accuracy = accuracy_score(y_train, d_y_train_pred)\n",
    "d_test_accuracy = accuracy_score(y_test, d_y_test_pred)\n",
    "d_results = pd.DataFrame({'Dataset': ['Train', 'Test'],\n",
    "                        'Accuracy': [d_train_accuracy, d_test_accuracy]})"
   ]
  },
  {
   "cell_type": "code",
   "execution_count": 15,
   "id": "b2904b4b",
   "metadata": {
    "execution": {
     "iopub.execute_input": "2024-01-03T12:01:29.423205Z",
     "iopub.status.busy": "2024-01-03T12:01:29.422819Z",
     "iopub.status.idle": "2024-01-03T12:01:29.432175Z",
     "shell.execute_reply": "2024-01-03T12:01:29.431276Z"
    },
    "papermill": {
     "duration": 0.030573,
     "end_time": "2024-01-03T12:01:29.434589",
     "exception": false,
     "start_time": "2024-01-03T12:01:29.404016",
     "status": "completed"
    },
    "tags": []
   },
   "outputs": [
    {
     "data": {
      "text/html": [
       "<div>\n",
       "<style scoped>\n",
       "    .dataframe tbody tr th:only-of-type {\n",
       "        vertical-align: middle;\n",
       "    }\n",
       "\n",
       "    .dataframe tbody tr th {\n",
       "        vertical-align: top;\n",
       "    }\n",
       "\n",
       "    .dataframe thead th {\n",
       "        text-align: right;\n",
       "    }\n",
       "</style>\n",
       "<table border=\"1\" class=\"dataframe\">\n",
       "  <thead>\n",
       "    <tr style=\"text-align: right;\">\n",
       "      <th></th>\n",
       "      <th>Dataset</th>\n",
       "      <th>Accuracy</th>\n",
       "    </tr>\n",
       "  </thead>\n",
       "  <tbody>\n",
       "    <tr>\n",
       "      <th>0</th>\n",
       "      <td>Train</td>\n",
       "      <td>0.982394</td>\n",
       "    </tr>\n",
       "    <tr>\n",
       "      <th>1</th>\n",
       "      <td>Test</td>\n",
       "      <td>0.926316</td>\n",
       "    </tr>\n",
       "  </tbody>\n",
       "</table>\n",
       "</div>"
      ],
      "text/plain": [
       "  Dataset  Accuracy\n",
       "0   Train  0.982394\n",
       "1    Test  0.926316"
      ]
     },
     "execution_count": 15,
     "metadata": {},
     "output_type": "execute_result"
    }
   ],
   "source": [
    "d_results.head()"
   ]
  },
  {
   "cell_type": "code",
   "execution_count": 16,
   "id": "d2819411",
   "metadata": {
    "execution": {
     "iopub.execute_input": "2024-01-03T12:01:29.471576Z",
     "iopub.status.busy": "2024-01-03T12:01:29.471172Z",
     "iopub.status.idle": "2024-01-03T12:01:29.732728Z",
     "shell.execute_reply": "2024-01-03T12:01:29.731430Z"
    },
    "papermill": {
     "duration": 0.282585,
     "end_time": "2024-01-03T12:01:29.735061",
     "exception": false,
     "start_time": "2024-01-03T12:01:29.452476",
     "status": "completed"
    },
    "tags": []
   },
   "outputs": [
    {
     "data": {
      "image/png": "[encoded data removed]",
      "text/plain": [
       "<Figure size 640x480 with 1 Axes>"
      ]
     },
     "metadata": {},
     "output_type": "display_data"
    }
   ],
   "source": [
    "sns.barplot(x='Dataset', y='Accuracy', data=d_results)\n",
    "plt.title('Accuracy of Decision tree classifier')\n",
    "plt.ylim(0, 1)\n",
    "plt.show()"
   ]
  },
  {
   "cell_type": "markdown",
   "id": "32bb318b",
   "metadata": {
    "papermill": {
     "duration": 0.017892,
     "end_time": "2024-01-03T12:01:29.771469",
     "exception": false,
     "start_time": "2024-01-03T12:01:29.753577",
     "status": "completed"
    },
    "tags": []
   },
   "source": [
    "# K neighbors classifier\n",
    "**Now we're going to implement the K neighbors classifier:**"
   ]
  },
  {
   "cell_type": "code",
   "execution_count": 17,
   "id": "51e625e0",
   "metadata": {
    "execution": {
     "iopub.execute_input": "2024-01-03T12:01:29.810003Z",
     "iopub.status.busy": "2024-01-03T12:01:29.809620Z",
     "iopub.status.idle": "2024-01-03T12:01:29.824461Z",
     "shell.execute_reply": "2024-01-03T12:01:29.823746Z"
    },
    "papermill": {
     "duration": 0.036365,
     "end_time": "2024-01-03T12:01:29.826311",
     "exception": false,
     "start_time": "2024-01-03T12:01:29.789946",
     "status": "completed"
    },
    "tags": []
   },
   "outputs": [
    {
     "name": "stderr",
     "output_type": "stream",
     "text": [
      "/opt/conda/lib/python3.10/site-packages/sklearn/neighbors/_classification.py:215: DataConversionWarning: A column-vector y was passed when a 1d array was expected. Please change the shape of y to (n_samples,), for example using ravel().\n",
      "  return self._fit(X, y)\n"
     ]
    },
    {
     "data": {
      "text/html": [
       "<style>#sk-container-id-2 {color: black;background-color: white;}#sk-container-id-2 pre{padding: 0;}#sk-container-id-2 div.sk-toggleable {background-color: white;}#sk-container-id-2 label.sk-toggleable__label {cursor: pointer;display: block;width: 100%;margin-bottom: 0;padding: 0.3em;box-sizing: border-box;text-align: center;}#sk-container-id-2 label.sk-toggleable__label-arrow:before {content: \"▸\";float: left;margin-right: 0.25em;color: #696969;}#sk-container-id-2 label.sk-toggleable__label-arrow:hover:before {color: black;}#sk-container-id-2 div.sk-estimator:hover label.sk-toggleable__label-arrow:before {color: black;}#sk-container-id-2 div.sk-toggleable__content {max-height: 0;max-width: 0;overflow: hidden;text-align: left;background-color: #f0f8ff;}#sk-container-id-2 div.sk-toggleable__content pre {margin: 0.2em;color: black;border-radius: 0.25em;background-color: #f0f8ff;}#sk-container-id-2 input.sk-toggleable__control:checked~div.sk-toggleable__content {max-height: 200px;max-width: 100%;overflow: auto;}#sk-container-id-2 input.sk-toggleable__control:checked~label.sk-toggleable__label-arrow:before {content: \"▾\";}#sk-container-id-2 div.sk-estimator input.sk-toggleable__control:checked~label.sk-toggleable__label {background-color: #d4ebff;}#sk-container-id-2 div.sk-label input.sk-toggleable__control:checked~label.sk-toggleable__label {background-color: #d4ebff;}#sk-container-id-2 input.sk-hidden--visually {border: 0;clip: rect(1px 1px 1px 1px);clip: rect(1px, 1px, 1px, 1px);height: 1px;margin: -1px;overflow: hidden;padding: 0;position: absolute;width: 1px;}#sk-container-id-2 div.sk-estimator {font-family: monospace;background-color: #f0f8ff;border: 1px dotted black;border-radius: 0.25em;box-sizing: border-box;margin-bottom: 0.5em;}#sk-container-id-2 div.sk-estimator:hover {background-color: #d4ebff;}#sk-container-id-2 div.sk-parallel-item::after {content: \"\";width: 100%;border-bottom: 1px solid gray;flex-grow: 1;}#sk-container-id-2 div.sk-label:hover label.sk-toggleable__label {background-color: #d4ebff;}#sk-container-id-2 div.sk-serial::before {content: \"\";position: absolute;border-left: 1px solid gray;box-sizing: border-box;top: 0;bottom: 0;left: 50%;z-index: 0;}#sk-container-id-2 div.sk-serial {display: flex;flex-direction: column;align-items: center;background-color: white;padding-right: 0.2em;padding-left: 0.2em;position: relative;}#sk-container-id-2 div.sk-item {position: relative;z-index: 1;}#sk-container-id-2 div.sk-parallel {display: flex;align-items: stretch;justify-content: center;background-color: white;position: relative;}#sk-container-id-2 div.sk-item::before, #sk-container-id-2 div.sk-parallel-item::before {content: \"\";position: absolute;border-left: 1px solid gray;box-sizing: border-box;top: 0;bottom: 0;left: 50%;z-index: -1;}#sk-container-id-2 div.sk-parallel-item {display: flex;flex-direction: column;z-index: 1;position: relative;background-color: white;}#sk-container-id-2 div.sk-parallel-item:first-child::after {align-self: flex-end;width: 50%;}#sk-container-id-2 div.sk-parallel-item:last-child::after {align-self: flex-start;width: 50%;}#sk-container-id-2 div.sk-parallel-item:only-child::after {width: 0;}#sk-container-id-2 div.sk-dashed-wrapped {border: 1px dashed gray;margin: 0 0.4em 0.5em 0.4em;box-sizing: border-box;padding-bottom: 0.4em;background-color: white;}#sk-container-id-2 div.sk-label label {font-family: monospace;font-weight: bold;display: inline-block;line-height: 1.2em;}#sk-container-id-2 div.sk-label-container {text-align: center;}#sk-container-id-2 div.sk-container {/* jupyter's `normalize.less` sets `[hidden] { display: none; }` but bootstrap.min.css set `[hidden] { display: none !important; }` so we also need the `!important` here to be able to override the default hidden behavior on the sphinx rendered scikit-learn.org. See: https://github.com/scikit-learn/scikit-learn/issues/21755 */display: inline-block !important;position: relative;}#sk-container-id-2 div.sk-text-repr-fallback {display: none;}</style><div id=\"sk-container-id-2\" class=\"sk-top-container\"><div class=\"sk-text-repr-fallback\"><pre>KNeighborsClassifier(n_neighbors=2)</pre><b>In a Jupyter environment, please rerun this cell to show the HTML representation or trust the notebook. <br />On GitHub, the HTML representation is unable to render, please try loading this page with nbviewer.org.</b></div><div class=\"sk-container\" hidden><div class=\"sk-item\"><div class=\"sk-estimator sk-toggleable\"><input class=\"sk-toggleable__control sk-hidden--visually\" id=\"sk-estimator-id-2\" type=\"checkbox\" checked><label for=\"sk-estimator-id-2\" class=\"sk-toggleable__label sk-toggleable__label-arrow\">KNeighborsClassifier</label><div class=\"sk-toggleable__content\"><pre>KNeighborsClassifier(n_neighbors=2)</pre></div></div></div></div></div>"
      ],
      "text/plain": [
       "KNeighborsClassifier(n_neighbors=2)"
      ]
     },
     "execution_count": 17,
     "metadata": {},
     "output_type": "execute_result"
    }
   ],
   "source": [
    "from sklearn.neighbors import KNeighborsClassifier\n",
    "kn_clf = KNeighborsClassifier(n_neighbors=2)\n",
    "kn_clf.fit(X_train, y_train)"
   ]
  },
  {
   "cell_type": "markdown",
   "id": "7a7e2323",
   "metadata": {
    "papermill": {
     "duration": 0.01845,
     "end_time": "2024-01-03T12:01:29.863621",
     "exception": false,
     "start_time": "2024-01-03T12:01:29.845171",
     "status": "completed"
    },
    "tags": []
   },
   "source": [
    "**Evaluation:**"
   ]
  },
  {
   "cell_type": "code",
   "execution_count": 18,
   "id": "f7971aee",
   "metadata": {
    "execution": {
     "iopub.execute_input": "2024-01-03T12:01:29.903060Z",
     "iopub.status.busy": "2024-01-03T12:01:29.902699Z",
     "iopub.status.idle": "2024-01-03T12:01:30.011423Z",
     "shell.execute_reply": "2024-01-03T12:01:30.010464Z"
    },
    "papermill": {
     "duration": 0.131484,
     "end_time": "2024-01-03T12:01:30.013971",
     "exception": false,
     "start_time": "2024-01-03T12:01:29.882487",
     "status": "completed"
    },
    "tags": []
   },
   "outputs": [],
   "source": [
    "kn_y_train_pred = kn_clf.predict(X_train)\n",
    "kn_y_test_pred = kn_clf.predict(X_test)\n",
    "kn_train_accuracy = accuracy_score(y_train, kn_y_train_pred)\n",
    "kn_test_accuracy = accuracy_score(y_test, kn_y_test_pred)\n",
    "kn_results = pd.DataFrame({'Dataset': ['Train', 'Test'],\n",
    "                        'Accuracy': [kn_train_accuracy, kn_test_accuracy]})"
   ]
  },
  {
   "cell_type": "code",
   "execution_count": 19,
   "id": "5db4eb47",
   "metadata": {
    "execution": {
     "iopub.execute_input": "2024-01-03T12:01:30.054023Z",
     "iopub.status.busy": "2024-01-03T12:01:30.053648Z",
     "iopub.status.idle": "2024-01-03T12:01:30.063049Z",
     "shell.execute_reply": "2024-01-03T12:01:30.062007Z"
    },
    "papermill": {
     "duration": 0.031715,
     "end_time": "2024-01-03T12:01:30.065036",
     "exception": false,
     "start_time": "2024-01-03T12:01:30.033321",
     "status": "completed"
    },
    "tags": []
   },
   "outputs": [
    {
     "data": {
      "text/html": [
       "<div>\n",
       "<style scoped>\n",
       "    .dataframe tbody tr th:only-of-type {\n",
       "        vertical-align: middle;\n",
       "    }\n",
       "\n",
       "    .dataframe tbody tr th {\n",
       "        vertical-align: top;\n",
       "    }\n",
       "\n",
       "    .dataframe thead th {\n",
       "        text-align: right;\n",
       "    }\n",
       "</style>\n",
       "<table border=\"1\" class=\"dataframe\">\n",
       "  <thead>\n",
       "    <tr style=\"text-align: right;\">\n",
       "      <th></th>\n",
       "      <th>Dataset</th>\n",
       "      <th>Accuracy</th>\n",
       "    </tr>\n",
       "  </thead>\n",
       "  <tbody>\n",
       "    <tr>\n",
       "      <th>0</th>\n",
       "      <td>Train</td>\n",
       "      <td>0.957746</td>\n",
       "    </tr>\n",
       "    <tr>\n",
       "      <th>1</th>\n",
       "      <td>Test</td>\n",
       "      <td>0.915789</td>\n",
       "    </tr>\n",
       "  </tbody>\n",
       "</table>\n",
       "</div>"
      ],
      "text/plain": [
       "  Dataset  Accuracy\n",
       "0   Train  0.957746\n",
       "1    Test  0.915789"
      ]
     },
     "execution_count": 19,
     "metadata": {},
     "output_type": "execute_result"
    }
   ],
   "source": [
    "kn_results.head()"
   ]
  },
  {
   "cell_type": "code",
   "execution_count": 20,
   "id": "cf7ff283",
   "metadata": {
    "execution": {
     "iopub.execute_input": "2024-01-03T12:01:30.105688Z",
     "iopub.status.busy": "2024-01-03T12:01:30.105301Z",
     "iopub.status.idle": "2024-01-03T12:01:30.341814Z",
     "shell.execute_reply": "2024-01-03T12:01:30.340758Z"
    },
    "papermill": {
     "duration": 0.259731,
     "end_time": "2024-01-03T12:01:30.344169",
     "exception": false,
     "start_time": "2024-01-03T12:01:30.084438",
     "status": "completed"
    },
    "tags": []
   },
   "outputs": [
    {
     "data": {
      "image/png": "[encoded data removed]",
      "text/plain": [
       "<Figure size 640x480 with 1 Axes>"
      ]
     },
     "metadata": {},
     "output_type": "display_data"
    }
   ],
   "source": [
    "sns.barplot(x='Dataset', y='Accuracy', data=kn_results)\n",
    "plt.title('Accuracy of K Neighbors Classifier')\n",
    "plt.ylim(0, 1)\n",
    "plt.show()"
   ]
  },
  {
   "cell_type": "markdown",
   "id": "9a899a66",
   "metadata": {
    "papermill": {
     "duration": 0.01908,
     "end_time": "2024-01-03T12:01:30.383374",
     "exception": false,
     "start_time": "2024-01-03T12:01:30.364294",
     "status": "completed"
    },
    "tags": []
   },
   "source": [
    "# Gaussian NB\n",
    "**Implementing Gaussian NB:**"
   ]
  },
  {
   "cell_type": "code",
   "execution_count": 21,
   "id": "423106af",
   "metadata": {
    "execution": {
     "iopub.execute_input": "2024-01-03T12:01:30.424362Z",
     "iopub.status.busy": "2024-01-03T12:01:30.423194Z",
     "iopub.status.idle": "2024-01-03T12:01:30.440302Z",
     "shell.execute_reply": "2024-01-03T12:01:30.439582Z"
    },
    "papermill": {
     "duration": 0.039842,
     "end_time": "2024-01-03T12:01:30.442245",
     "exception": false,
     "start_time": "2024-01-03T12:01:30.402403",
     "status": "completed"
    },
    "tags": []
   },
   "outputs": [
    {
     "name": "stderr",
     "output_type": "stream",
     "text": [
      "/opt/conda/lib/python3.10/site-packages/sklearn/utils/validation.py:1143: DataConversionWarning: A column-vector y was passed when a 1d array was expected. Please change the shape of y to (n_samples, ), for example using ravel().\n",
      "  y = column_or_1d(y, warn=True)\n"
     ]
    },
    {
     "data": {
      "text/html": [
       "<style>#sk-container-id-3 {color: black;background-color: white;}#sk-container-id-3 pre{padding: 0;}#sk-container-id-3 div.sk-toggleable {background-color: white;}#sk-container-id-3 label.sk-toggleable__label {cursor: pointer;display: block;width: 100%;margin-bottom: 0;padding: 0.3em;box-sizing: border-box;text-align: center;}#sk-container-id-3 label.sk-toggleable__label-arrow:before {content: \"▸\";float: left;margin-right: 0.25em;color: #696969;}#sk-container-id-3 label.sk-toggleable__label-arrow:hover:before {color: black;}#sk-container-id-3 div.sk-estimator:hover label.sk-toggleable__label-arrow:before {color: black;}#sk-container-id-3 div.sk-toggleable__content {max-height: 0;max-width: 0;overflow: hidden;text-align: left;background-color: #f0f8ff;}#sk-container-id-3 div.sk-toggleable__content pre {margin: 0.2em;color: black;border-radius: 0.25em;background-color: #f0f8ff;}#sk-container-id-3 input.sk-toggleable__control:checked~div.sk-toggleable__content {max-height: 200px;max-width: 100%;overflow: auto;}#sk-container-id-3 input.sk-toggleable__control:checked~label.sk-toggleable__label-arrow:before {content: \"▾\";}#sk-container-id-3 div.sk-estimator input.sk-toggleable__control:checked~label.sk-toggleable__label {background-color: #d4ebff;}#sk-container-id-3 div.sk-label input.sk-toggleable__control:checked~label.sk-toggleable__label {background-color: #d4ebff;}#sk-container-id-3 input.sk-hidden--visually {border: 0;clip: rect(1px 1px 1px 1px);clip: rect(1px, 1px, 1px, 1px);height: 1px;margin: -1px;overflow: hidden;padding: 0;position: absolute;width: 1px;}#sk-container-id-3 div.sk-estimator {font-family: monospace;background-color: #f0f8ff;border: 1px dotted black;border-radius: 0.25em;box-sizing: border-box;margin-bottom: 0.5em;}#sk-container-id-3 div.sk-estimator:hover {background-color: #d4ebff;}#sk-container-id-3 div.sk-parallel-item::after {content: \"\";width: 100%;border-bottom: 1px solid gray;flex-grow: 1;}#sk-container-id-3 div.sk-label:hover label.sk-toggleable__label {background-color: #d4ebff;}#sk-container-id-3 div.sk-serial::before {content: \"\";position: absolute;border-left: 1px solid gray;box-sizing: border-box;top: 0;bottom: 0;left: 50%;z-index: 0;}#sk-container-id-3 div.sk-serial {display: flex;flex-direction: column;align-items: center;background-color: white;padding-right: 0.2em;padding-left: 0.2em;position: relative;}#sk-container-id-3 div.sk-item {position: relative;z-index: 1;}#sk-container-id-3 div.sk-parallel {display: flex;align-items: stretch;justify-content: center;background-color: white;position: relative;}#sk-container-id-3 div.sk-item::before, #sk-container-id-3 div.sk-parallel-item::before {content: \"\";position: absolute;border-left: 1px solid gray;box-sizing: border-box;top: 0;bottom: 0;left: 50%;z-index: -1;}#sk-container-id-3 div.sk-parallel-item {display: flex;flex-direction: column;z-index: 1;position: relative;background-color: white;}#sk-container-id-3 div.sk-parallel-item:first-child::after {align-self: flex-end;width: 50%;}#sk-container-id-3 div.sk-parallel-item:last-child::after {align-self: flex-start;width: 50%;}#sk-container-id-3 div.sk-parallel-item:only-child::after {width: 0;}#sk-container-id-3 div.sk-dashed-wrapped {border: 1px dashed gray;margin: 0 0.4em 0.5em 0.4em;box-sizing: border-box;padding-bottom: 0.4em;background-color: white;}#sk-container-id-3 div.sk-label label {font-family: monospace;font-weight: bold;display: inline-block;line-height: 1.2em;}#sk-container-id-3 div.sk-label-container {text-align: center;}#sk-container-id-3 div.sk-container {/* jupyter's `normalize.less` sets `[hidden] { display: none; }` but bootstrap.min.css set `[hidden] { display: none !important; }` so we also need the `!important` here to be able to override the default hidden behavior on the sphinx rendered scikit-learn.org. See: https://github.com/scikit-learn/scikit-learn/issues/21755 */display: inline-block !important;position: relative;}#sk-container-id-3 div.sk-text-repr-fallback {display: none;}</style><div id=\"sk-container-id-3\" class=\"sk-top-container\"><div class=\"sk-text-repr-fallback\"><pre>GaussianNB()</pre><b>In a Jupyter environment, please rerun this cell to show the HTML representation or trust the notebook. <br />On GitHub, the HTML representation is unable to render, please try loading this page with nbviewer.org.</b></div><div class=\"sk-container\" hidden><div class=\"sk-item\"><div class=\"sk-estimator sk-toggleable\"><input class=\"sk-toggleable__control sk-hidden--visually\" id=\"sk-estimator-id-3\" type=\"checkbox\" checked><label for=\"sk-estimator-id-3\" class=\"sk-toggleable__label sk-toggleable__label-arrow\">GaussianNB</label><div class=\"sk-toggleable__content\"><pre>GaussianNB()</pre></div></div></div></div></div>"
      ],
      "text/plain": [
       "GaussianNB()"
      ]
     },
     "execution_count": 21,
     "metadata": {},
     "output_type": "execute_result"
    }
   ],
   "source": [
    "from sklearn.naive_bayes import GaussianNB\n",
    "g_clf = GaussianNB()\n",
    "g_clf.fit(X_train, y_train)"
   ]
  },
  {
   "cell_type": "markdown",
   "id": "1b15fe1e",
   "metadata": {
    "papermill": {
     "duration": 0.019217,
     "end_time": "2024-01-03T12:01:30.480972",
     "exception": false,
     "start_time": "2024-01-03T12:01:30.461755",
     "status": "completed"
    },
    "tags": []
   },
   "source": [
    "**Evaluation:**"
   ]
  },
  {
   "cell_type": "code",
   "execution_count": 22,
   "id": "ea627e1f",
   "metadata": {
    "execution": {
     "iopub.execute_input": "2024-01-03T12:01:30.521976Z",
     "iopub.status.busy": "2024-01-03T12:01:30.521214Z",
     "iopub.status.idle": "2024-01-03T12:01:30.539422Z",
     "shell.execute_reply": "2024-01-03T12:01:30.538544Z"
    },
    "papermill": {
     "duration": 0.041438,
     "end_time": "2024-01-03T12:01:30.541598",
     "exception": false,
     "start_time": "2024-01-03T12:01:30.500160",
     "status": "completed"
    },
    "tags": []
   },
   "outputs": [],
   "source": [
    "g_y_train_pred = g_clf.predict(X_train)\n",
    "g_y_test_pred = g_clf.predict(X_test)\n",
    "\n",
    "g_train_accuracy = accuracy_score(y_train, g_y_train_pred)\n",
    "g_test_accuracy = accuracy_score(y_test, g_y_test_pred)\n",
    "\n",
    "g_results = pd.DataFrame({'Dataset': ['Train', 'Test'],\n",
    "                        'Accuracy': [g_train_accuracy, g_test_accuracy]})"
   ]
  },
  {
   "cell_type": "code",
   "execution_count": 23,
   "id": "50ea8518",
   "metadata": {
    "execution": {
     "iopub.execute_input": "2024-01-03T12:01:30.581904Z",
     "iopub.status.busy": "2024-01-03T12:01:30.581230Z",
     "iopub.status.idle": "2024-01-03T12:01:30.591182Z",
     "shell.execute_reply": "2024-01-03T12:01:30.590127Z"
    },
    "papermill": {
     "duration": 0.032012,
     "end_time": "2024-01-03T12:01:30.593252",
     "exception": false,
     "start_time": "2024-01-03T12:01:30.561240",
     "status": "completed"
    },
    "tags": []
   },
   "outputs": [
    {
     "data": {
      "text/html": [
       "<div>\n",
       "<style scoped>\n",
       "    .dataframe tbody tr th:only-of-type {\n",
       "        vertical-align: middle;\n",
       "    }\n",
       "\n",
       "    .dataframe tbody tr th {\n",
       "        vertical-align: top;\n",
       "    }\n",
       "\n",
       "    .dataframe thead th {\n",
       "        text-align: right;\n",
       "    }\n",
       "</style>\n",
       "<table border=\"1\" class=\"dataframe\">\n",
       "  <thead>\n",
       "    <tr style=\"text-align: right;\">\n",
       "      <th></th>\n",
       "      <th>Dataset</th>\n",
       "      <th>Accuracy</th>\n",
       "    </tr>\n",
       "  </thead>\n",
       "  <tbody>\n",
       "    <tr>\n",
       "      <th>0</th>\n",
       "      <td>Train</td>\n",
       "      <td>0.950704</td>\n",
       "    </tr>\n",
       "    <tr>\n",
       "      <th>1</th>\n",
       "      <td>Test</td>\n",
       "      <td>0.936842</td>\n",
       "    </tr>\n",
       "  </tbody>\n",
       "</table>\n",
       "</div>"
      ],
      "text/plain": [
       "  Dataset  Accuracy\n",
       "0   Train  0.950704\n",
       "1    Test  0.936842"
      ]
     },
     "execution_count": 23,
     "metadata": {},
     "output_type": "execute_result"
    }
   ],
   "source": [
    "g_results.head()"
   ]
  },
  {
   "cell_type": "code",
   "execution_count": 24,
   "id": "d6839ed5",
   "metadata": {
    "execution": {
     "iopub.execute_input": "2024-01-03T12:01:30.633337Z",
     "iopub.status.busy": "2024-01-03T12:01:30.632774Z",
     "iopub.status.idle": "2024-01-03T12:01:30.858385Z",
     "shell.execute_reply": "2024-01-03T12:01:30.857288Z"
    },
    "papermill": {
     "duration": 0.248714,
     "end_time": "2024-01-03T12:01:30.860818",
     "exception": false,
     "start_time": "2024-01-03T12:01:30.612104",
     "status": "completed"
    },
    "tags": []
   },
   "outputs": [
    {
     "data": {
      "image/png": "[encoded data removed]",
      "text/plain": [
       "<Figure size 640x480 with 1 Axes>"
      ]
     },
     "metadata": {},
     "output_type": "display_data"
    }
   ],
   "source": [
    "sns.barplot(x='Dataset', y='Accuracy', data=g_results)\n",
    "plt.title('Accuracy of Gaussian NB')\n",
    "plt.ylim(0, 1)\n",
    "plt.show()"
   ]
  },
  {
   "cell_type": "markdown",
   "id": "08a8ec1a",
   "metadata": {
    "papermill": {
     "duration": 0.019371,
     "end_time": "2024-01-03T12:01:30.900525",
     "exception": false,
     "start_time": "2024-01-03T12:01:30.881154",
     "status": "completed"
    },
    "tags": []
   },
   "source": [
    "# SVC (Support Vector Classifier)\n",
    "**Implementing SVC:**"
   ]
  },
  {
   "cell_type": "code",
   "execution_count": 25,
   "id": "c58eb1cd",
   "metadata": {
    "execution": {
     "iopub.execute_input": "2024-01-03T12:01:30.943263Z",
     "iopub.status.busy": "2024-01-03T12:01:30.942574Z",
     "iopub.status.idle": "2024-01-03T12:01:30.956920Z",
     "shell.execute_reply": "2024-01-03T12:01:30.956137Z"
    },
    "papermill": {
     "duration": 0.038433,
     "end_time": "2024-01-03T12:01:30.958899",
     "exception": false,
     "start_time": "2024-01-03T12:01:30.920466",
     "status": "completed"
    },
    "tags": []
   },
   "outputs": [
    {
     "name": "stderr",
     "output_type": "stream",
     "text": [
      "/opt/conda/lib/python3.10/site-packages/sklearn/utils/validation.py:1143: DataConversionWarning: A column-vector y was passed when a 1d array was expected. Please change the shape of y to (n_samples, ), for example using ravel().\n",
      "  y = column_or_1d(y, warn=True)\n"
     ]
    },
    {
     "data": {
      "text/html": [
       "<style>#sk-container-id-4 {color: black;background-color: white;}#sk-container-id-4 pre{padding: 0;}#sk-container-id-4 div.sk-toggleable {background-color: white;}#sk-container-id-4 label.sk-toggleable__label {cursor: pointer;display: block;width: 100%;margin-bottom: 0;padding: 0.3em;box-sizing: border-box;text-align: center;}#sk-container-id-4 label.sk-toggleable__label-arrow:before {content: \"▸\";float: left;margin-right: 0.25em;color: #696969;}#sk-container-id-4 label.sk-toggleable__label-arrow:hover:before {color: black;}#sk-container-id-4 div.sk-estimator:hover label.sk-toggleable__label-arrow:before {color: black;}#sk-container-id-4 div.sk-toggleable__content {max-height: 0;max-width: 0;overflow: hidden;text-align: left;background-color: #f0f8ff;}#sk-container-id-4 div.sk-toggleable__content pre {margin: 0.2em;color: black;border-radius: 0.25em;background-color: #f0f8ff;}#sk-container-id-4 input.sk-toggleable__control:checked~div.sk-toggleable__content {max-height: 200px;max-width: 100%;overflow: auto;}#sk-container-id-4 input.sk-toggleable__control:checked~label.sk-toggleable__label-arrow:before {content: \"▾\";}#sk-container-id-4 div.sk-estimator input.sk-toggleable__control:checked~label.sk-toggleable__label {background-color: #d4ebff;}#sk-container-id-4 div.sk-label input.sk-toggleable__control:checked~label.sk-toggleable__label {background-color: #d4ebff;}#sk-container-id-4 input.sk-hidden--visually {border: 0;clip: rect(1px 1px 1px 1px);clip: rect(1px, 1px, 1px, 1px);height: 1px;margin: -1px;overflow: hidden;padding: 0;position: absolute;width: 1px;}#sk-container-id-4 div.sk-estimator {font-family: monospace;background-color: #f0f8ff;border: 1px dotted black;border-radius: 0.25em;box-sizing: border-box;margin-bottom: 0.5em;}#sk-container-id-4 div.sk-estimator:hover {background-color: #d4ebff;}#sk-container-id-4 div.sk-parallel-item::after {content: \"\";width: 100%;border-bottom: 1px solid gray;flex-grow: 1;}#sk-container-id-4 div.sk-label:hover label.sk-toggleable__label {background-color: #d4ebff;}#sk-container-id-4 div.sk-serial::before {content: \"\";position: absolute;border-left: 1px solid gray;box-sizing: border-box;top: 0;bottom: 0;left: 50%;z-index: 0;}#sk-container-id-4 div.sk-serial {display: flex;flex-direction: column;align-items: center;background-color: white;padding-right: 0.2em;padding-left: 0.2em;position: relative;}#sk-container-id-4 div.sk-item {position: relative;z-index: 1;}#sk-container-id-4 div.sk-parallel {display: flex;align-items: stretch;justify-content: center;background-color: white;position: relative;}#sk-container-id-4 div.sk-item::before, #sk-container-id-4 div.sk-parallel-item::before {content: \"\";position: absolute;border-left: 1px solid gray;box-sizing: border-box;top: 0;bottom: 0;left: 50%;z-index: -1;}#sk-container-id-4 div.sk-parallel-item {display: flex;flex-direction: column;z-index: 1;position: relative;background-color: white;}#sk-container-id-4 div.sk-parallel-item:first-child::after {align-self: flex-end;width: 50%;}#sk-container-id-4 div.sk-parallel-item:last-child::after {align-self: flex-start;width: 50%;}#sk-container-id-4 div.sk-parallel-item:only-child::after {width: 0;}#sk-container-id-4 div.sk-dashed-wrapped {border: 1px dashed gray;margin: 0 0.4em 0.5em 0.4em;box-sizing: border-box;padding-bottom: 0.4em;background-color: white;}#sk-container-id-4 div.sk-label label {font-family: monospace;font-weight: bold;display: inline-block;line-height: 1.2em;}#sk-container-id-4 div.sk-label-container {text-align: center;}#sk-container-id-4 div.sk-container {/* jupyter's `normalize.less` sets `[hidden] { display: none; }` but bootstrap.min.css set `[hidden] { display: none !important; }` so we also need the `!important` here to be able to override the default hidden behavior on the sphinx rendered scikit-learn.org. See: https://github.com/scikit-learn/scikit-learn/issues/21755 */display: inline-block !important;position: relative;}#sk-container-id-4 div.sk-text-repr-fallback {display: none;}</style><div id=\"sk-container-id-4\" class=\"sk-top-container\"><div class=\"sk-text-repr-fallback\"><pre>SVC(random_state=0)</pre><b>In a Jupyter environment, please rerun this cell to show the HTML representation or trust the notebook. <br />On GitHub, the HTML representation is unable to render, please try loading this page with nbviewer.org.</b></div><div class=\"sk-container\" hidden><div class=\"sk-item\"><div class=\"sk-estimator sk-toggleable\"><input class=\"sk-toggleable__control sk-hidden--visually\" id=\"sk-estimator-id-4\" type=\"checkbox\" checked><label for=\"sk-estimator-id-4\" class=\"sk-toggleable__label sk-toggleable__label-arrow\">SVC</label><div class=\"sk-toggleable__content\"><pre>SVC(random_state=0)</pre></div></div></div></div></div>"
      ],
      "text/plain": [
       "SVC(random_state=0)"
      ]
     },
     "execution_count": 25,
     "metadata": {},
     "output_type": "execute_result"
    }
   ],
   "source": [
    "from sklearn.svm import SVC\n",
    "svc_clf = SVC(random_state=0)\n",
    "svc_clf.fit(X_train, y_train)"
   ]
  },
  {
   "cell_type": "code",
   "execution_count": 26,
   "id": "4bcfcd38",
   "metadata": {
    "execution": {
     "iopub.execute_input": "2024-01-03T12:01:31.002978Z",
     "iopub.status.busy": "2024-01-03T12:01:31.002276Z",
     "iopub.status.idle": "2024-01-03T12:01:31.014878Z",
     "shell.execute_reply": "2024-01-03T12:01:31.013851Z"
    },
    "papermill": {
     "duration": 0.037322,
     "end_time": "2024-01-03T12:01:31.017233",
     "exception": false,
     "start_time": "2024-01-03T12:01:30.979911",
     "status": "completed"
    },
    "tags": []
   },
   "outputs": [],
   "source": [
    "svc_y_train_pred = svc_clf.predict(X_train)\n",
    "svc_y_test_pred = svc_clf.predict(X_test)"
   ]
  },
  {
   "cell_type": "markdown",
   "id": "5ef09f81",
   "metadata": {
    "papermill": {
     "duration": 0.020419,
     "end_time": "2024-01-03T12:01:31.058850",
     "exception": false,
     "start_time": "2024-01-03T12:01:31.038431",
     "status": "completed"
    },
    "tags": []
   },
   "source": [
    "**Evaluation:**"
   ]
  },
  {
   "cell_type": "code",
   "execution_count": 27,
   "id": "be5a93c6",
   "metadata": {
    "execution": {
     "iopub.execute_input": "2024-01-03T12:01:31.102363Z",
     "iopub.status.busy": "2024-01-03T12:01:31.101384Z",
     "iopub.status.idle": "2024-01-03T12:01:31.113749Z",
     "shell.execute_reply": "2024-01-03T12:01:31.112995Z"
    },
    "papermill": {
     "duration": 0.036959,
     "end_time": "2024-01-03T12:01:31.115991",
     "exception": false,
     "start_time": "2024-01-03T12:01:31.079032",
     "status": "completed"
    },
    "tags": []
   },
   "outputs": [],
   "source": [
    "svc_train_accuracy = accuracy_score(y_train, svc_y_train_pred)\n",
    "svc_test_accuracy = accuracy_score(y_test, svc_y_test_pred)"
   ]
  },
  {
   "cell_type": "code",
   "execution_count": 28,
   "id": "11c87e26",
   "metadata": {
    "execution": {
     "iopub.execute_input": "2024-01-03T12:01:31.158537Z",
     "iopub.status.busy": "2024-01-03T12:01:31.157912Z",
     "iopub.status.idle": "2024-01-03T12:01:31.162453Z",
     "shell.execute_reply": "2024-01-03T12:01:31.161806Z"
    },
    "papermill": {
     "duration": 0.027505,
     "end_time": "2024-01-03T12:01:31.164239",
     "exception": false,
     "start_time": "2024-01-03T12:01:31.136734",
     "status": "completed"
    },
    "tags": []
   },
   "outputs": [],
   "source": [
    "svc_results = pd.DataFrame({'Dataset': ['Train', 'Test'],\n",
    "                        'Accuracy': [svc_train_accuracy, svc_test_accuracy]})"
   ]
  },
  {
   "cell_type": "code",
   "execution_count": 29,
   "id": "136936da",
   "metadata": {
    "execution": {
     "iopub.execute_input": "2024-01-03T12:01:31.206338Z",
     "iopub.status.busy": "2024-01-03T12:01:31.205709Z",
     "iopub.status.idle": "2024-01-03T12:01:31.214322Z",
     "shell.execute_reply": "2024-01-03T12:01:31.213652Z"
    },
    "papermill": {
     "duration": 0.032058,
     "end_time": "2024-01-03T12:01:31.216321",
     "exception": false,
     "start_time": "2024-01-03T12:01:31.184263",
     "status": "completed"
    },
    "tags": []
   },
   "outputs": [
    {
     "data": {
      "text/html": [
       "<div>\n",
       "<style scoped>\n",
       "    .dataframe tbody tr th:only-of-type {\n",
       "        vertical-align: middle;\n",
       "    }\n",
       "\n",
       "    .dataframe tbody tr th {\n",
       "        vertical-align: top;\n",
       "    }\n",
       "\n",
       "    .dataframe thead th {\n",
       "        text-align: right;\n",
       "    }\n",
       "</style>\n",
       "<table border=\"1\" class=\"dataframe\">\n",
       "  <thead>\n",
       "    <tr style=\"text-align: right;\">\n",
       "      <th></th>\n",
       "      <th>Dataset</th>\n",
       "      <th>Accuracy</th>\n",
       "    </tr>\n",
       "  </thead>\n",
       "  <tbody>\n",
       "    <tr>\n",
       "      <th>0</th>\n",
       "      <td>Train</td>\n",
       "      <td>0.897887</td>\n",
       "    </tr>\n",
       "    <tr>\n",
       "      <th>1</th>\n",
       "      <td>Test</td>\n",
       "      <td>0.915789</td>\n",
       "    </tr>\n",
       "  </tbody>\n",
       "</table>\n",
       "</div>"
      ],
      "text/plain": [
       "  Dataset  Accuracy\n",
       "0   Train  0.897887\n",
       "1    Test  0.915789"
      ]
     },
     "execution_count": 29,
     "metadata": {},
     "output_type": "execute_result"
    }
   ],
   "source": [
    "svc_results.head()"
   ]
  },
  {
   "cell_type": "markdown",
   "id": "21d504aa",
   "metadata": {
    "papermill": {
     "duration": 0.020093,
     "end_time": "2024-01-03T12:01:31.257629",
     "exception": false,
     "start_time": "2024-01-03T12:01:31.237536",
     "status": "completed"
    },
    "tags": []
   },
   "source": [
    "**Plot:**"
   ]
  },
  {
   "cell_type": "code",
   "execution_count": 30,
   "id": "1f4ec786",
   "metadata": {
    "execution": {
     "iopub.execute_input": "2024-01-03T12:01:31.302639Z",
     "iopub.status.busy": "2024-01-03T12:01:31.301949Z",
     "iopub.status.idle": "2024-01-03T12:01:31.532458Z",
     "shell.execute_reply": "2024-01-03T12:01:31.531292Z"
    },
    "papermill": {
     "duration": 0.256535,
     "end_time": "2024-01-03T12:01:31.534996",
     "exception": false,
     "start_time": "2024-01-03T12:01:31.278461",
     "status": "completed"
    },
    "tags": []
   },
   "outputs": [
    {
     "data": {
      "image/png": "[encoded data removed]",
      "text/plain": [
       "<Figure size 640x480 with 1 Axes>"
      ]
     },
     "metadata": {},
     "output_type": "display_data"
    }
   ],
   "source": [
    "sns.barplot(x='Dataset', y='Accuracy', data=svc_results)\n",
    "plt.title('Accuracy of Support Vector Classifier')\n",
    "plt.ylim(0,1)\n",
    "plt.show()"
   ]
  },
  {
   "cell_type": "markdown",
   "id": "c07450e7",
   "metadata": {
    "papermill": {
     "duration": 0.020487,
     "end_time": "2024-01-03T12:01:31.576383",
     "exception": false,
     "start_time": "2024-01-03T12:01:31.555896",
     "status": "completed"
    },
    "tags": []
   },
   "source": [
    "# MLP Classifier\n",
    "**Implementing mlp classifier:**"
   ]
  },
  {
   "cell_type": "code",
   "execution_count": 31,
   "id": "fe75783f",
   "metadata": {
    "execution": {
     "iopub.execute_input": "2024-01-03T12:01:31.619470Z",
     "iopub.status.busy": "2024-01-03T12:01:31.619091Z",
     "iopub.status.idle": "2024-01-03T12:01:31.722568Z",
     "shell.execute_reply": "2024-01-03T12:01:31.721175Z"
    },
    "papermill": {
     "duration": 0.132782,
     "end_time": "2024-01-03T12:01:31.729738",
     "exception": false,
     "start_time": "2024-01-03T12:01:31.596956",
     "status": "completed"
    },
    "tags": []
   },
   "outputs": [
    {
     "name": "stderr",
     "output_type": "stream",
     "text": [
      "/opt/conda/lib/python3.10/site-packages/sklearn/neural_network/_multilayer_perceptron.py:1098: DataConversionWarning: A column-vector y was passed when a 1d array was expected. Please change the shape of y to (n_samples, ), for example using ravel().\n",
      "  y = column_or_1d(y, warn=True)\n",
      "/opt/conda/lib/python3.10/site-packages/sklearn/neural_network/_multilayer_perceptron.py:686: ConvergenceWarning: Stochastic Optimizer: Maximum iterations (10) reached and the optimization hasn't converged yet.\n",
      "  warnings.warn(\n"
     ]
    },
    {
     "data": {
      "text/html": [
       "<style>#sk-container-id-5 {color: black;background-color: white;}#sk-container-id-5 pre{padding: 0;}#sk-container-id-5 div.sk-toggleable {background-color: white;}#sk-container-id-5 label.sk-toggleable__label {cursor: pointer;display: block;width: 100%;margin-bottom: 0;padding: 0.3em;box-sizing: border-box;text-align: center;}#sk-container-id-5 label.sk-toggleable__label-arrow:before {content: \"▸\";float: left;margin-right: 0.25em;color: #696969;}#sk-container-id-5 label.sk-toggleable__label-arrow:hover:before {color: black;}#sk-container-id-5 div.sk-estimator:hover label.sk-toggleable__label-arrow:before {color: black;}#sk-container-id-5 div.sk-toggleable__content {max-height: 0;max-width: 0;overflow: hidden;text-align: left;background-color: #f0f8ff;}#sk-container-id-5 div.sk-toggleable__content pre {margin: 0.2em;color: black;border-radius: 0.25em;background-color: #f0f8ff;}#sk-container-id-5 input.sk-toggleable__control:checked~div.sk-toggleable__content {max-height: 200px;max-width: 100%;overflow: auto;}#sk-container-id-5 input.sk-toggleable__control:checked~label.sk-toggleable__label-arrow:before {content: \"▾\";}#sk-container-id-5 div.sk-estimator input.sk-toggleable__control:checked~label.sk-toggleable__label {background-color: #d4ebff;}#sk-container-id-5 div.sk-label input.sk-toggleable__control:checked~label.sk-toggleable__label {background-color: #d4ebff;}#sk-container-id-5 input.sk-hidden--visually {border: 0;clip: rect(1px 1px 1px 1px);clip: rect(1px, 1px, 1px, 1px);height: 1px;margin: -1px;overflow: hidden;padding: 0;position: absolute;width: 1px;}#sk-container-id-5 div.sk-estimator {font-family: monospace;background-color: #f0f8ff;border: 1px dotted black;border-radius: 0.25em;box-sizing: border-box;margin-bottom: 0.5em;}#sk-container-id-5 div.sk-estimator:hover {background-color: #d4ebff;}#sk-container-id-5 div.sk-parallel-item::after {content: \"\";width: 100%;border-bottom: 1px solid gray;flex-grow: 1;}#sk-container-id-5 div.sk-label:hover label.sk-toggleable__label {background-color: #d4ebff;}#sk-container-id-5 div.sk-serial::before {content: \"\";position: absolute;border-left: 1px solid gray;box-sizing: border-box;top: 0;bottom: 0;left: 50%;z-index: 0;}#sk-container-id-5 div.sk-serial {display: flex;flex-direction: column;align-items: center;background-color: white;padding-right: 0.2em;padding-left: 0.2em;position: relative;}#sk-container-id-5 div.sk-item {position: relative;z-index: 1;}#sk-container-id-5 div.sk-parallel {display: flex;align-items: stretch;justify-content: center;background-color: white;position: relative;}#sk-container-id-5 div.sk-item::before, #sk-container-id-5 div.sk-parallel-item::before {content: \"\";position: absolute;border-left: 1px solid gray;box-sizing: border-box;top: 0;bottom: 0;left: 50%;z-index: -1;}#sk-container-id-5 div.sk-parallel-item {display: flex;flex-direction: column;z-index: 1;position: relative;background-color: white;}#sk-container-id-5 div.sk-parallel-item:first-child::after {align-self: flex-end;width: 50%;}#sk-container-id-5 div.sk-parallel-item:last-child::after {align-self: flex-start;width: 50%;}#sk-container-id-5 div.sk-parallel-item:only-child::after {width: 0;}#sk-container-id-5 div.sk-dashed-wrapped {border: 1px dashed gray;margin: 0 0.4em 0.5em 0.4em;box-sizing: border-box;padding-bottom: 0.4em;background-color: white;}#sk-container-id-5 div.sk-label label {font-family: monospace;font-weight: bold;display: inline-block;line-height: 1.2em;}#sk-container-id-5 div.sk-label-container {text-align: center;}#sk-container-id-5 div.sk-container {/* jupyter's `normalize.less` sets `[hidden] { display: none; }` but bootstrap.min.css set `[hidden] { display: none !important; }` so we also need the `!important` here to be able to override the default hidden behavior on the sphinx rendered scikit-learn.org. See: https://github.com/scikit-learn/scikit-learn/issues/21755 */display: inline-block !important;position: relative;}#sk-container-id-5 div.sk-text-repr-fallback {display: none;}</style><div id=\"sk-container-id-5\" class=\"sk-top-container\"><div class=\"sk-text-repr-fallback\"><pre>MLPClassifier(max_iter=10, random_state=0)</pre><b>In a Jupyter environment, please rerun this cell to show the HTML representation or trust the notebook. <br />On GitHub, the HTML representation is unable to render, please try loading this page with nbviewer.org.</b></div><div class=\"sk-container\" hidden><div class=\"sk-item\"><div class=\"sk-estimator sk-toggleable\"><input class=\"sk-toggleable__control sk-hidden--visually\" id=\"sk-estimator-id-5\" type=\"checkbox\" checked><label for=\"sk-estimator-id-5\" class=\"sk-toggleable__label sk-toggleable__label-arrow\">MLPClassifier</label><div class=\"sk-toggleable__content\"><pre>MLPClassifier(max_iter=10, random_state=0)</pre></div></div></div></div></div>"
      ],
      "text/plain": [
       "MLPClassifier(max_iter=10, random_state=0)"
      ]
     },
     "execution_count": 31,
     "metadata": {},
     "output_type": "execute_result"
    }
   ],
   "source": [
    "from sklearn.neural_network import MLPClassifier\n",
    "mlp_clf = MLPClassifier(random_state=0, max_iter=10)\n",
    "mlp_clf.fit(X_train, y_train)\n"
   ]
  },
  {
   "cell_type": "code",
   "execution_count": 32,
   "id": "2472edb4",
   "metadata": {
    "execution": {
     "iopub.execute_input": "2024-01-03T12:01:31.854195Z",
     "iopub.status.busy": "2024-01-03T12:01:31.853693Z",
     "iopub.status.idle": "2024-01-03T12:01:31.871609Z",
     "shell.execute_reply": "2024-01-03T12:01:31.869311Z"
    },
    "papermill": {
     "duration": 0.064311,
     "end_time": "2024-01-03T12:01:31.876410",
     "exception": false,
     "start_time": "2024-01-03T12:01:31.812099",
     "status": "completed"
    },
    "tags": []
   },
   "outputs": [],
   "source": [
    "mlp_y_train_pred = mlp_clf.predict(X_train)\n",
    "mlp_y_test_pred = mlp_clf.predict(X_test)"
   ]
  },
  {
   "cell_type": "markdown",
   "id": "d11f9ba5",
   "metadata": {
    "papermill": {
     "duration": 0.053268,
     "end_time": "2024-01-03T12:01:32.009320",
     "exception": false,
     "start_time": "2024-01-03T12:01:31.956052",
     "status": "completed"
    },
    "tags": []
   },
   "source": [
    "**Evaluation:**"
   ]
  },
  {
   "cell_type": "code",
   "execution_count": 33,
   "id": "ded5e525",
   "metadata": {
    "execution": {
     "iopub.execute_input": "2024-01-03T12:01:32.056863Z",
     "iopub.status.busy": "2024-01-03T12:01:32.056481Z",
     "iopub.status.idle": "2024-01-03T12:01:32.070720Z",
     "shell.execute_reply": "2024-01-03T12:01:32.069976Z"
    },
    "papermill": {
     "duration": 0.041186,
     "end_time": "2024-01-03T12:01:32.072859",
     "exception": false,
     "start_time": "2024-01-03T12:01:32.031673",
     "status": "completed"
    },
    "tags": []
   },
   "outputs": [],
   "source": [
    "mlp_train_accuracy = accuracy_score(y_train, mlp_y_train_pred)\n",
    "mlp_test_accuracy = accuracy_score(y_test, mlp_y_test_pred)\n",
    "mlp_results = pd.DataFrame({'Dataset': ['Train', 'Test'],\n",
    "                        'Accuracy': [mlp_train_accuracy, mlp_test_accuracy]})"
   ]
  },
  {
   "cell_type": "code",
   "execution_count": 34,
   "id": "34727dc8",
   "metadata": {
    "execution": {
     "iopub.execute_input": "2024-01-03T12:01:32.117098Z",
     "iopub.status.busy": "2024-01-03T12:01:32.116709Z",
     "iopub.status.idle": "2024-01-03T12:01:32.125865Z",
     "shell.execute_reply": "2024-01-03T12:01:32.125153Z"
    },
    "papermill": {
     "duration": 0.033508,
     "end_time": "2024-01-03T12:01:32.127831",
     "exception": false,
     "start_time": "2024-01-03T12:01:32.094323",
     "status": "completed"
    },
    "tags": []
   },
   "outputs": [
    {
     "data": {
      "text/html": [
       "<div>\n",
       "<style scoped>\n",
       "    .dataframe tbody tr th:only-of-type {\n",
       "        vertical-align: middle;\n",
       "    }\n",
       "\n",
       "    .dataframe tbody tr th {\n",
       "        vertical-align: top;\n",
       "    }\n",
       "\n",
       "    .dataframe thead th {\n",
       "        text-align: right;\n",
       "    }\n",
       "</style>\n",
       "<table border=\"1\" class=\"dataframe\">\n",
       "  <thead>\n",
       "    <tr style=\"text-align: right;\">\n",
       "      <th></th>\n",
       "      <th>Dataset</th>\n",
       "      <th>Accuracy</th>\n",
       "    </tr>\n",
       "  </thead>\n",
       "  <tbody>\n",
       "    <tr>\n",
       "      <th>0</th>\n",
       "      <td>Train</td>\n",
       "      <td>0.820423</td>\n",
       "    </tr>\n",
       "    <tr>\n",
       "      <th>1</th>\n",
       "      <td>Test</td>\n",
       "      <td>0.821053</td>\n",
       "    </tr>\n",
       "  </tbody>\n",
       "</table>\n",
       "</div>"
      ],
      "text/plain": [
       "  Dataset  Accuracy\n",
       "0   Train  0.820423\n",
       "1    Test  0.821053"
      ]
     },
     "execution_count": 34,
     "metadata": {},
     "output_type": "execute_result"
    }
   ],
   "source": [
    "mlp_results.head()"
   ]
  },
  {
   "cell_type": "markdown",
   "id": "862fb2ce",
   "metadata": {
    "papermill": {
     "duration": 0.022995,
     "end_time": "2024-01-03T12:01:32.171588",
     "exception": false,
     "start_time": "2024-01-03T12:01:32.148593",
     "status": "completed"
    },
    "tags": []
   },
   "source": [
    "**Plot:**"
   ]
  },
  {
   "cell_type": "code",
   "execution_count": 35,
   "id": "35770d55",
   "metadata": {
    "execution": {
     "iopub.execute_input": "2024-01-03T12:01:32.226920Z",
     "iopub.status.busy": "2024-01-03T12:01:32.225999Z",
     "iopub.status.idle": "2024-01-03T12:01:32.464888Z",
     "shell.execute_reply": "2024-01-03T12:01:32.464110Z"
    },
    "papermill": {
     "duration": 0.265616,
     "end_time": "2024-01-03T12:01:32.467226",
     "exception": false,
     "start_time": "2024-01-03T12:01:32.201610",
     "status": "completed"
    },
    "tags": []
   },
   "outputs": [
    {
     "data": {
      "image/png": "[encoded data removed]",
      "text/plain": [
       "<Figure size 640x480 with 1 Axes>"
      ]
     },
     "metadata": {},
     "output_type": "display_data"
    }
   ],
   "source": [
    "sns.barplot(x='Dataset', y='Accuracy', data=mlp_results)\n",
    "plt.title('Accuracy of MLPClassifier')\n",
    "plt.ylim(0, 1)\n",
    "plt.show()"
   ]
  },
  {
   "cell_type": "markdown",
   "id": "1f7a41d4",
   "metadata": {
    "papermill": {
     "duration": 0.021858,
     "end_time": "2024-01-03T12:01:32.511166",
     "exception": false,
     "start_time": "2024-01-03T12:01:32.489308",
     "status": "completed"
    },
    "tags": []
   },
   "source": [
    "# Merging accuracies:"
   ]
  },
  {
   "cell_type": "code",
   "execution_count": 36,
   "id": "167d3236",
   "metadata": {
    "execution": {
     "iopub.execute_input": "2024-01-03T12:01:32.556575Z",
     "iopub.status.busy": "2024-01-03T12:01:32.555895Z",
     "iopub.status.idle": "2024-01-03T12:01:32.565191Z",
     "shell.execute_reply": "2024-01-03T12:01:32.564556Z"
    },
    "papermill": {
     "duration": 0.033989,
     "end_time": "2024-01-03T12:01:32.567208",
     "exception": false,
     "start_time": "2024-01-03T12:01:32.533219",
     "status": "completed"
    },
    "tags": []
   },
   "outputs": [],
   "source": [
    "d_results['Model'] = 'DecisionTree'\n",
    "kn_results['Model'] = 'KNeighbors'\n",
    "svc_results['Model'] = 'SVC'\n",
    "mlp_results['Model'] = 'MLPClassifier'\n",
    "g_results['Model'] = 'GaussianNB'\n",
    "accuracies = pd.concat([d_results, kn_results, \n",
    "                        svc_results, mlp_results, g_results], ignore_index=True)"
   ]
  },
  {
   "cell_type": "code",
   "execution_count": 37,
   "id": "cf221762",
   "metadata": {
    "execution": {
     "iopub.execute_input": "2024-01-03T12:01:32.613395Z",
     "iopub.status.busy": "2024-01-03T12:01:32.612838Z",
     "iopub.status.idle": "2024-01-03T12:01:32.623924Z",
     "shell.execute_reply": "2024-01-03T12:01:32.622894Z"
    },
    "papermill": {
     "duration": 0.036807,
     "end_time": "2024-01-03T12:01:32.626227",
     "exception": false,
     "start_time": "2024-01-03T12:01:32.589420",
     "status": "completed"
    },
    "tags": []
   },
   "outputs": [
    {
     "data": {
      "text/html": [
       "<div>\n",
       "<style scoped>\n",
       "    .dataframe tbody tr th:only-of-type {\n",
       "        vertical-align: middle;\n",
       "    }\n",
       "\n",
       "    .dataframe tbody tr th {\n",
       "        vertical-align: top;\n",
       "    }\n",
       "\n",
       "    .dataframe thead th {\n",
       "        text-align: right;\n",
       "    }\n",
       "</style>\n",
       "<table border=\"1\" class=\"dataframe\">\n",
       "  <thead>\n",
       "    <tr style=\"text-align: right;\">\n",
       "      <th></th>\n",
       "      <th>Dataset</th>\n",
       "      <th>Accuracy</th>\n",
       "      <th>Model</th>\n",
       "    </tr>\n",
       "  </thead>\n",
       "  <tbody>\n",
       "    <tr>\n",
       "      <th>0</th>\n",
       "      <td>Train</td>\n",
       "      <td>0.982394</td>\n",
       "      <td>DecisionTree</td>\n",
       "    </tr>\n",
       "    <tr>\n",
       "      <th>1</th>\n",
       "      <td>Test</td>\n",
       "      <td>0.926316</td>\n",
       "      <td>DecisionTree</td>\n",
       "    </tr>\n",
       "    <tr>\n",
       "      <th>2</th>\n",
       "      <td>Train</td>\n",
       "      <td>0.957746</td>\n",
       "      <td>KNeighbors</td>\n",
       "    </tr>\n",
       "    <tr>\n",
       "      <th>3</th>\n",
       "      <td>Test</td>\n",
       "      <td>0.915789</td>\n",
       "      <td>KNeighbors</td>\n",
       "    </tr>\n",
       "    <tr>\n",
       "      <th>4</th>\n",
       "      <td>Train</td>\n",
       "      <td>0.897887</td>\n",
       "      <td>SVC</td>\n",
       "    </tr>\n",
       "    <tr>\n",
       "      <th>5</th>\n",
       "      <td>Test</td>\n",
       "      <td>0.915789</td>\n",
       "      <td>SVC</td>\n",
       "    </tr>\n",
       "    <tr>\n",
       "      <th>6</th>\n",
       "      <td>Train</td>\n",
       "      <td>0.820423</td>\n",
       "      <td>MLPClassifier</td>\n",
       "    </tr>\n",
       "    <tr>\n",
       "      <th>7</th>\n",
       "      <td>Test</td>\n",
       "      <td>0.821053</td>\n",
       "      <td>MLPClassifier</td>\n",
       "    </tr>\n",
       "    <tr>\n",
       "      <th>8</th>\n",
       "      <td>Train</td>\n",
       "      <td>0.950704</td>\n",
       "      <td>GaussianNB</td>\n",
       "    </tr>\n",
       "    <tr>\n",
       "      <th>9</th>\n",
       "      <td>Test</td>\n",
       "      <td>0.936842</td>\n",
       "      <td>GaussianNB</td>\n",
       "    </tr>\n",
       "  </tbody>\n",
       "</table>\n",
       "</div>"
      ],
      "text/plain": [
       "  Dataset  Accuracy          Model\n",
       "0   Train  0.982394   DecisionTree\n",
       "1    Test  0.926316   DecisionTree\n",
       "2   Train  0.957746     KNeighbors\n",
       "3    Test  0.915789     KNeighbors\n",
       "4   Train  0.897887            SVC\n",
       "5    Test  0.915789            SVC\n",
       "6   Train  0.820423  MLPClassifier\n",
       "7    Test  0.821053  MLPClassifier\n",
       "8   Train  0.950704     GaussianNB\n",
       "9    Test  0.936842     GaussianNB"
      ]
     },
     "execution_count": 37,
     "metadata": {},
     "output_type": "execute_result"
    }
   ],
   "source": [
    "accuracies"
   ]
  },
  {
   "cell_type": "code",
   "execution_count": 38,
   "id": "aef02ad9",
   "metadata": {
    "execution": {
     "iopub.execute_input": "2024-01-03T12:01:32.673164Z",
     "iopub.status.busy": "2024-01-03T12:01:32.672758Z",
     "iopub.status.idle": "2024-01-03T12:01:33.097397Z",
     "shell.execute_reply": "2024-01-03T12:01:33.096331Z"
    },
    "papermill": {
     "duration": 0.450628,
     "end_time": "2024-01-03T12:01:33.099610",
     "exception": false,
     "start_time": "2024-01-03T12:01:32.648982",
     "status": "completed"
    },
    "tags": []
   },
   "outputs": [
    {
     "data": {
      "text/plain": [
       "(0.0, 1.0)"
      ]
     },
     "execution_count": 38,
     "metadata": {},
     "output_type": "execute_result"
    },
    {
     "data": {
      "image/png": "[encoded data removed]",
      "text/plain": [
       "<Figure size 640x480 with 1 Axes>"
      ]
     },
     "metadata": {},
     "output_type": "display_data"
    }
   ],
   "source": [
    "barplot = sns.barplot(x='Model', y='Accuracy', hue='Dataset', data=accuracies)\n",
    "plt.title('Accuracy of Different Models on Train and Test Datasets')\n",
    "plt.xlabel('Model')\n",
    "plt.ylabel('Accuracy')\n",
    "plt.ylim(0,1)"
   ]
  },
  {
   "cell_type": "code",
   "execution_count": null,
   "id": "6758c72e",
   "metadata": {
    "papermill": {
     "duration": 0.022933,
     "end_time": "2024-01-03T12:01:33.146296",
     "exception": false,
     "start_time": "2024-01-03T12:01:33.123363",
     "status": "completed"
    },
    "tags": []
   },
   "outputs": [],
   "source": []
  }
 ],
 "metadata": {
  "kaggle": {
   "accelerator": "none",
   "dataSources": [],
   "dockerImageVersionId": 30626,
   "isGpuEnabled": false,
   "isInternetEnabled": true,
   "language": "python",
   "sourceType": "notebook"
  },
  "kernelspec": {
   "display_name": "Python 3",
   "language": "python",
   "name": "python3"
  },
  "language_info": {
   "codemirror_mode": {
    "name": "ipython",
    "version": 3
   },
   "file_extension": ".py",
   "mimetype": "text/x-python",
   "name": "python",
   "nbconvert_exporter": "python",
   "pygments_lexer": "ipython3",
   "version": "3.10.12"
  },
  "papermill": {
   "default_parameters": {},
   "duration": 10.773107,
   "end_time": "2024-01-03T12:01:33.689950",
   "environment_variables": {},
   "exception": null,
   "input_path": "__notebook__.ipynb",
   "output_path": "__notebook__.ipynb",
   "parameters": {},
   "start_time": "2024-01-03T12:01:22.916843",
   "version": "2.4.0"
  }
 },
 "nbformat": 4,
 "nbformat_minor": 5
}
